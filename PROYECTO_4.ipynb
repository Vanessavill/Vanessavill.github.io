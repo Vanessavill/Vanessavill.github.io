{
  "cells": [
    {
      "cell_type": "markdown",
      "metadata": {
        "id": "view-in-github",
        "colab_type": "text"
      },
      "source": [
        "<a href=\"https://colab.research.google.com/github/Vanessavill/Vanessavill.github.io/blob/PROYECTOS-MACHINE-LEARNING/PROYECTO_4.ipynb\" target=\"_parent\"><img src=\"https://colab.research.google.com/assets/colab-badge.svg\" alt=\"Open In Colab\"/></a>"
      ]
    },
    {
      "cell_type": "code",
      "execution_count": null,
      "metadata": {
        "colab": {
          "base_uri": "https://localhost:8080/"
        },
        "id": "NGvoSXbxOh_R",
        "outputId": "ce2d4aa7-702c-4a72-ead7-99a693cb0b5d"
      },
      "outputs": [
        {
          "output_type": "stream",
          "name": "stdout",
          "text": [
            "Collecting wooldridge\n",
            "  Downloading wooldridge-0.4.4-py3-none-any.whl (5.1 MB)\n",
            "\u001b[K     |████████████████████████████████| 5.1 MB 5.0 MB/s \n",
            "\u001b[?25hRequirement already satisfied: pandas in /usr/local/lib/python3.7/dist-packages (from wooldridge) (1.3.5)\n",
            "Requirement already satisfied: numpy>=1.17.3 in /usr/local/lib/python3.7/dist-packages (from pandas->wooldridge) (1.21.5)\n",
            "Requirement already satisfied: pytz>=2017.3 in /usr/local/lib/python3.7/dist-packages (from pandas->wooldridge) (2018.9)\n",
            "Requirement already satisfied: python-dateutil>=2.7.3 in /usr/local/lib/python3.7/dist-packages (from pandas->wooldridge) (2.8.2)\n",
            "Requirement already satisfied: six>=1.5 in /usr/local/lib/python3.7/dist-packages (from python-dateutil>=2.7.3->pandas->wooldridge) (1.15.0)\n",
            "Installing collected packages: wooldridge\n",
            "Successfully installed wooldridge-0.4.4\n"
          ]
        }
      ],
      "source": [
        "!pip install wooldridge\n",
        "import wooldridge as wd\n",
        "import pandas as pd\n",
        "import numpy as np \n",
        "import openpyxl as open\n",
        "import seaborn as sns\n",
        "import matplotlib.pyplot as plt\n",
        "from re import S\n",
        "from scipy.stats import mode\n",
        "import statistics as st\n",
        "from numpy.ma.core import std"
      ]
    },
    {
      "cell_type": "code",
      "execution_count": null,
      "metadata": {
        "id": "LEPrVmp7Ovkd"
      },
      "outputs": [],
      "source": [
        "BASE= wd.data('crime1')\n",
        "x= BASE[['pcnv', 'avgsen', 'tottime', 'inc86']]\n",
        "y= BASE['narr86']\n",
        "y=y.to_numpy()\n",
        "x=x.to_numpy()"
      ]
    },
    {
      "cell_type": "code",
      "source": [
        "x"
      ],
      "metadata": {
        "id": "iS1mgtYcHrCV",
        "outputId": "c4210d4e-421e-4861-943d-ab181b0e4130",
        "colab": {
          "base_uri": "https://localhost:8080/"
        }
      },
      "execution_count": null,
      "outputs": [
        {
          "output_type": "execute_result",
          "data": {
            "text/plain": [
              "array([[  0.38      ,  17.60000038,  35.20000076,   0.        ],\n",
              "       [  0.44      ,   0.        ,   0.        ,   0.80000001],\n",
              "       [  0.33000001,  22.79999924,  22.79999924,   0.        ],\n",
              "       ...,\n",
              "       [  0.        ,   0.        ,   0.        ,   1.89999998],\n",
              "       [  0.        ,   0.        ,   0.        ,   0.        ],\n",
              "       [  0.        ,   0.        ,   0.        , 191.30000305]])"
            ]
          },
          "metadata": {},
          "execution_count": 51
        }
      ]
    },
    {
      "cell_type": "code",
      "source": [
        "y=y.reshape(-1,1)\n",
        "y"
      ],
      "metadata": {
        "id": "LgTMMuOeOqUR",
        "outputId": "b5ed3d0f-e3a1-434d-c034-a28f94e20f80",
        "colab": {
          "base_uri": "https://localhost:8080/"
        }
      },
      "execution_count": null,
      "outputs": [
        {
          "output_type": "execute_result",
          "data": {
            "text/plain": [
              "array([[0],\n",
              "       [2],\n",
              "       [1],\n",
              "       ...,\n",
              "       [0],\n",
              "       [1],\n",
              "       [0]])"
            ]
          },
          "metadata": {},
          "execution_count": 56
        }
      ]
    },
    {
      "cell_type": "code",
      "source": [
        "BASE.describe()"
      ],
      "metadata": {
        "colab": {
          "base_uri": "https://localhost:8080/",
          "height": 364
        },
        "id": "WqQg8eLWQj7-",
        "outputId": "8881f508-d3e0-4ed7-fefc-c3144abe622f"
      },
      "execution_count": null,
      "outputs": [
        {
          "output_type": "execute_result",
          "data": {
            "text/html": [
              "\n",
              "  <div id=\"df-6828a127-fe7e-4b70-a9eb-b5270972ef64\">\n",
              "    <div class=\"colab-df-container\">\n",
              "      <div>\n",
              "<style scoped>\n",
              "    .dataframe tbody tr th:only-of-type {\n",
              "        vertical-align: middle;\n",
              "    }\n",
              "\n",
              "    .dataframe tbody tr th {\n",
              "        vertical-align: top;\n",
              "    }\n",
              "\n",
              "    .dataframe thead th {\n",
              "        text-align: right;\n",
              "    }\n",
              "</style>\n",
              "<table border=\"1\" class=\"dataframe\">\n",
              "  <thead>\n",
              "    <tr style=\"text-align: right;\">\n",
              "      <th></th>\n",
              "      <th>narr86</th>\n",
              "      <th>nfarr86</th>\n",
              "      <th>nparr86</th>\n",
              "      <th>pcnv</th>\n",
              "      <th>avgsen</th>\n",
              "      <th>tottime</th>\n",
              "      <th>ptime86</th>\n",
              "      <th>qemp86</th>\n",
              "      <th>inc86</th>\n",
              "      <th>durat</th>\n",
              "      <th>black</th>\n",
              "      <th>hispan</th>\n",
              "      <th>born60</th>\n",
              "      <th>pcnvsq</th>\n",
              "      <th>pt86sq</th>\n",
              "      <th>inc86sq</th>\n",
              "    </tr>\n",
              "  </thead>\n",
              "  <tbody>\n",
              "    <tr>\n",
              "      <th>count</th>\n",
              "      <td>2725.000000</td>\n",
              "      <td>2725.000000</td>\n",
              "      <td>2725.000000</td>\n",
              "      <td>2725.000000</td>\n",
              "      <td>2725.000000</td>\n",
              "      <td>2725.000000</td>\n",
              "      <td>2725.000000</td>\n",
              "      <td>2725.000000</td>\n",
              "      <td>2725.000000</td>\n",
              "      <td>2725.000000</td>\n",
              "      <td>2725.000000</td>\n",
              "      <td>2725.000000</td>\n",
              "      <td>2725.000000</td>\n",
              "      <td>2725.000000</td>\n",
              "      <td>2725.000000</td>\n",
              "      <td>2725.000000</td>\n",
              "    </tr>\n",
              "    <tr>\n",
              "      <th>mean</th>\n",
              "      <td>0.404404</td>\n",
              "      <td>0.233394</td>\n",
              "      <td>0.125505</td>\n",
              "      <td>0.357787</td>\n",
              "      <td>0.632294</td>\n",
              "      <td>0.838752</td>\n",
              "      <td>0.387156</td>\n",
              "      <td>2.309028</td>\n",
              "      <td>54.967046</td>\n",
              "      <td>2.251376</td>\n",
              "      <td>0.161101</td>\n",
              "      <td>0.217615</td>\n",
              "      <td>0.362569</td>\n",
              "      <td>0.284131</td>\n",
              "      <td>3.951193</td>\n",
              "      <td>7458.932620</td>\n",
              "    </tr>\n",
              "    <tr>\n",
              "      <th>std</th>\n",
              "      <td>0.859077</td>\n",
              "      <td>0.581014</td>\n",
              "      <td>0.482847</td>\n",
              "      <td>0.395192</td>\n",
              "      <td>3.508031</td>\n",
              "      <td>4.607019</td>\n",
              "      <td>1.950051</td>\n",
              "      <td>1.610428</td>\n",
              "      <td>66.627213</td>\n",
              "      <td>4.607063</td>\n",
              "      <td>0.367691</td>\n",
              "      <td>0.412700</td>\n",
              "      <td>0.480830</td>\n",
              "      <td>0.390734</td>\n",
              "      <td>22.085840</td>\n",
              "      <td>16361.238454</td>\n",
              "    </tr>\n",
              "    <tr>\n",
              "      <th>min</th>\n",
              "      <td>0.000000</td>\n",
              "      <td>0.000000</td>\n",
              "      <td>0.000000</td>\n",
              "      <td>0.000000</td>\n",
              "      <td>0.000000</td>\n",
              "      <td>0.000000</td>\n",
              "      <td>0.000000</td>\n",
              "      <td>0.000000</td>\n",
              "      <td>0.000000</td>\n",
              "      <td>0.000000</td>\n",
              "      <td>0.000000</td>\n",
              "      <td>0.000000</td>\n",
              "      <td>0.000000</td>\n",
              "      <td>0.000000</td>\n",
              "      <td>0.000000</td>\n",
              "      <td>0.000000</td>\n",
              "    </tr>\n",
              "    <tr>\n",
              "      <th>25%</th>\n",
              "      <td>0.000000</td>\n",
              "      <td>0.000000</td>\n",
              "      <td>0.000000</td>\n",
              "      <td>0.000000</td>\n",
              "      <td>0.000000</td>\n",
              "      <td>0.000000</td>\n",
              "      <td>0.000000</td>\n",
              "      <td>1.000000</td>\n",
              "      <td>0.400000</td>\n",
              "      <td>0.000000</td>\n",
              "      <td>0.000000</td>\n",
              "      <td>0.000000</td>\n",
              "      <td>0.000000</td>\n",
              "      <td>0.000000</td>\n",
              "      <td>0.000000</td>\n",
              "      <td>0.160000</td>\n",
              "    </tr>\n",
              "    <tr>\n",
              "      <th>50%</th>\n",
              "      <td>0.000000</td>\n",
              "      <td>0.000000</td>\n",
              "      <td>0.000000</td>\n",
              "      <td>0.250000</td>\n",
              "      <td>0.000000</td>\n",
              "      <td>0.000000</td>\n",
              "      <td>0.000000</td>\n",
              "      <td>3.000000</td>\n",
              "      <td>29.000000</td>\n",
              "      <td>0.000000</td>\n",
              "      <td>0.000000</td>\n",
              "      <td>0.000000</td>\n",
              "      <td>0.000000</td>\n",
              "      <td>0.062500</td>\n",
              "      <td>0.000000</td>\n",
              "      <td>841.000000</td>\n",
              "    </tr>\n",
              "    <tr>\n",
              "      <th>75%</th>\n",
              "      <td>1.000000</td>\n",
              "      <td>0.000000</td>\n",
              "      <td>0.000000</td>\n",
              "      <td>0.670000</td>\n",
              "      <td>0.000000</td>\n",
              "      <td>0.000000</td>\n",
              "      <td>0.000000</td>\n",
              "      <td>4.000000</td>\n",
              "      <td>90.099998</td>\n",
              "      <td>2.000000</td>\n",
              "      <td>0.000000</td>\n",
              "      <td>0.000000</td>\n",
              "      <td>1.000000</td>\n",
              "      <td>0.448900</td>\n",
              "      <td>0.000000</td>\n",
              "      <td>8118.009766</td>\n",
              "    </tr>\n",
              "    <tr>\n",
              "      <th>max</th>\n",
              "      <td>12.000000</td>\n",
              "      <td>6.000000</td>\n",
              "      <td>8.000000</td>\n",
              "      <td>1.000000</td>\n",
              "      <td>59.200001</td>\n",
              "      <td>63.400002</td>\n",
              "      <td>12.000000</td>\n",
              "      <td>4.000000</td>\n",
              "      <td>541.000000</td>\n",
              "      <td>25.000000</td>\n",
              "      <td>1.000000</td>\n",
              "      <td>1.000000</td>\n",
              "      <td>1.000000</td>\n",
              "      <td>1.000000</td>\n",
              "      <td>144.000000</td>\n",
              "      <td>292681.000000</td>\n",
              "    </tr>\n",
              "  </tbody>\n",
              "</table>\n",
              "</div>\n",
              "      <button class=\"colab-df-convert\" onclick=\"convertToInteractive('df-6828a127-fe7e-4b70-a9eb-b5270972ef64')\"\n",
              "              title=\"Convert this dataframe to an interactive table.\"\n",
              "              style=\"display:none;\">\n",
              "        \n",
              "  <svg xmlns=\"http://www.w3.org/2000/svg\" height=\"24px\"viewBox=\"0 0 24 24\"\n",
              "       width=\"24px\">\n",
              "    <path d=\"M0 0h24v24H0V0z\" fill=\"none\"/>\n",
              "    <path d=\"M18.56 5.44l.94 2.06.94-2.06 2.06-.94-2.06-.94-.94-2.06-.94 2.06-2.06.94zm-11 1L8.5 8.5l.94-2.06 2.06-.94-2.06-.94L8.5 2.5l-.94 2.06-2.06.94zm10 10l.94 2.06.94-2.06 2.06-.94-2.06-.94-.94-2.06-.94 2.06-2.06.94z\"/><path d=\"M17.41 7.96l-1.37-1.37c-.4-.4-.92-.59-1.43-.59-.52 0-1.04.2-1.43.59L10.3 9.45l-7.72 7.72c-.78.78-.78 2.05 0 2.83L4 21.41c.39.39.9.59 1.41.59.51 0 1.02-.2 1.41-.59l7.78-7.78 2.81-2.81c.8-.78.8-2.07 0-2.86zM5.41 20L4 18.59l7.72-7.72 1.47 1.35L5.41 20z\"/>\n",
              "  </svg>\n",
              "      </button>\n",
              "      \n",
              "  <style>\n",
              "    .colab-df-container {\n",
              "      display:flex;\n",
              "      flex-wrap:wrap;\n",
              "      gap: 12px;\n",
              "    }\n",
              "\n",
              "    .colab-df-convert {\n",
              "      background-color: #E8F0FE;\n",
              "      border: none;\n",
              "      border-radius: 50%;\n",
              "      cursor: pointer;\n",
              "      display: none;\n",
              "      fill: #1967D2;\n",
              "      height: 32px;\n",
              "      padding: 0 0 0 0;\n",
              "      width: 32px;\n",
              "    }\n",
              "\n",
              "    .colab-df-convert:hover {\n",
              "      background-color: #E2EBFA;\n",
              "      box-shadow: 0px 1px 2px rgba(60, 64, 67, 0.3), 0px 1px 3px 1px rgba(60, 64, 67, 0.15);\n",
              "      fill: #174EA6;\n",
              "    }\n",
              "\n",
              "    [theme=dark] .colab-df-convert {\n",
              "      background-color: #3B4455;\n",
              "      fill: #D2E3FC;\n",
              "    }\n",
              "\n",
              "    [theme=dark] .colab-df-convert:hover {\n",
              "      background-color: #434B5C;\n",
              "      box-shadow: 0px 1px 3px 1px rgba(0, 0, 0, 0.15);\n",
              "      filter: drop-shadow(0px 1px 2px rgba(0, 0, 0, 0.3));\n",
              "      fill: #FFFFFF;\n",
              "    }\n",
              "  </style>\n",
              "\n",
              "      <script>\n",
              "        const buttonEl =\n",
              "          document.querySelector('#df-6828a127-fe7e-4b70-a9eb-b5270972ef64 button.colab-df-convert');\n",
              "        buttonEl.style.display =\n",
              "          google.colab.kernel.accessAllowed ? 'block' : 'none';\n",
              "\n",
              "        async function convertToInteractive(key) {\n",
              "          const element = document.querySelector('#df-6828a127-fe7e-4b70-a9eb-b5270972ef64');\n",
              "          const dataTable =\n",
              "            await google.colab.kernel.invokeFunction('convertToInteractive',\n",
              "                                                     [key], {});\n",
              "          if (!dataTable) return;\n",
              "\n",
              "          const docLinkHtml = 'Like what you see? Visit the ' +\n",
              "            '<a target=\"_blank\" href=https://colab.research.google.com/notebooks/data_table.ipynb>data table notebook</a>'\n",
              "            + ' to learn more about interactive tables.';\n",
              "          element.innerHTML = '';\n",
              "          dataTable['output_type'] = 'display_data';\n",
              "          await google.colab.output.renderOutput(dataTable, element);\n",
              "          const docLink = document.createElement('div');\n",
              "          docLink.innerHTML = docLinkHtml;\n",
              "          element.appendChild(docLink);\n",
              "        }\n",
              "      </script>\n",
              "    </div>\n",
              "  </div>\n",
              "  "
            ],
            "text/plain": [
              "            narr86      nfarr86      nparr86         pcnv       avgsen  \\\n",
              "count  2725.000000  2725.000000  2725.000000  2725.000000  2725.000000   \n",
              "mean      0.404404     0.233394     0.125505     0.357787     0.632294   \n",
              "std       0.859077     0.581014     0.482847     0.395192     3.508031   \n",
              "min       0.000000     0.000000     0.000000     0.000000     0.000000   \n",
              "25%       0.000000     0.000000     0.000000     0.000000     0.000000   \n",
              "50%       0.000000     0.000000     0.000000     0.250000     0.000000   \n",
              "75%       1.000000     0.000000     0.000000     0.670000     0.000000   \n",
              "max      12.000000     6.000000     8.000000     1.000000    59.200001   \n",
              "\n",
              "           tottime      ptime86       qemp86        inc86        durat  \\\n",
              "count  2725.000000  2725.000000  2725.000000  2725.000000  2725.000000   \n",
              "mean      0.838752     0.387156     2.309028    54.967046     2.251376   \n",
              "std       4.607019     1.950051     1.610428    66.627213     4.607063   \n",
              "min       0.000000     0.000000     0.000000     0.000000     0.000000   \n",
              "25%       0.000000     0.000000     1.000000     0.400000     0.000000   \n",
              "50%       0.000000     0.000000     3.000000    29.000000     0.000000   \n",
              "75%       0.000000     0.000000     4.000000    90.099998     2.000000   \n",
              "max      63.400002    12.000000     4.000000   541.000000    25.000000   \n",
              "\n",
              "             black       hispan       born60       pcnvsq       pt86sq  \\\n",
              "count  2725.000000  2725.000000  2725.000000  2725.000000  2725.000000   \n",
              "mean      0.161101     0.217615     0.362569     0.284131     3.951193   \n",
              "std       0.367691     0.412700     0.480830     0.390734    22.085840   \n",
              "min       0.000000     0.000000     0.000000     0.000000     0.000000   \n",
              "25%       0.000000     0.000000     0.000000     0.000000     0.000000   \n",
              "50%       0.000000     0.000000     0.000000     0.062500     0.000000   \n",
              "75%       0.000000     0.000000     1.000000     0.448900     0.000000   \n",
              "max       1.000000     1.000000     1.000000     1.000000   144.000000   \n",
              "\n",
              "             inc86sq  \n",
              "count    2725.000000  \n",
              "mean     7458.932620  \n",
              "std     16361.238454  \n",
              "min         0.000000  \n",
              "25%         0.160000  \n",
              "50%       841.000000  \n",
              "75%      8118.009766  \n",
              "max    292681.000000  "
            ]
          },
          "metadata": {},
          "execution_count": 57
        }
      ]
    },
    {
      "cell_type": "code",
      "source": [
        "BASE.info()"
      ],
      "metadata": {
        "colab": {
          "base_uri": "https://localhost:8080/"
        },
        "id": "11tSVEsMhCmo",
        "outputId": "b1312032-623a-45b0-cb07-485a536148a2"
      },
      "execution_count": null,
      "outputs": [
        {
          "output_type": "stream",
          "name": "stdout",
          "text": [
            "<class 'pandas.core.frame.DataFrame'>\n",
            "RangeIndex: 2725 entries, 0 to 2724\n",
            "Data columns (total 16 columns):\n",
            " #   Column   Non-Null Count  Dtype  \n",
            "---  ------   --------------  -----  \n",
            " 0   narr86   2725 non-null   int64  \n",
            " 1   nfarr86  2725 non-null   int64  \n",
            " 2   nparr86  2725 non-null   int64  \n",
            " 3   pcnv     2725 non-null   float64\n",
            " 4   avgsen   2725 non-null   float64\n",
            " 5   tottime  2725 non-null   float64\n",
            " 6   ptime86  2725 non-null   int64  \n",
            " 7   qemp86   2725 non-null   float64\n",
            " 8   inc86    2725 non-null   float64\n",
            " 9   durat    2725 non-null   float64\n",
            " 10  black    2725 non-null   int64  \n",
            " 11  hispan   2725 non-null   int64  \n",
            " 12  born60   2725 non-null   int64  \n",
            " 13  pcnvsq   2725 non-null   float64\n",
            " 14  pt86sq   2725 non-null   int64  \n",
            " 15  inc86sq  2725 non-null   float64\n",
            "dtypes: float64(8), int64(8)\n",
            "memory usage: 340.8 KB\n"
          ]
        }
      ]
    },
    {
      "cell_type": "code",
      "source": [
        "matrizx=np.c_[np.ones(2725),x]"
      ],
      "metadata": {
        "id": "e9I5sRy5Rs4l"
      },
      "execution_count": null,
      "outputs": []
    },
    {
      "cell_type": "code",
      "source": [
        "matrizx"
      ],
      "metadata": {
        "colab": {
          "base_uri": "https://localhost:8080/"
        },
        "id": "36t_uoTfT40E",
        "outputId": "c20f3c40-7540-4834-de47-e8abe0276b65"
      },
      "execution_count": null,
      "outputs": [
        {
          "output_type": "execute_result",
          "data": {
            "text/plain": [
              "array([[  1.        ,   0.38      ,  17.60000038,  35.20000076,\n",
              "          0.        ],\n",
              "       [  1.        ,   0.44      ,   0.        ,   0.        ,\n",
              "          0.80000001],\n",
              "       [  1.        ,   0.33000001,  22.79999924,  22.79999924,\n",
              "          0.        ],\n",
              "       ...,\n",
              "       [  1.        ,   0.        ,   0.        ,   0.        ,\n",
              "          1.89999998],\n",
              "       [  1.        ,   0.        ,   0.        ,   0.        ,\n",
              "          0.        ],\n",
              "       [  1.        ,   0.        ,   0.        ,   0.        ,\n",
              "        191.30000305]])"
            ]
          },
          "metadata": {},
          "execution_count": 60
        }
      ]
    },
    {
      "cell_type": "code",
      "source": [
        "X_T=np.transpose(matrizx)"
      ],
      "metadata": {
        "id": "Ela5CyJjMqAC"
      },
      "execution_count": null,
      "outputs": []
    },
    {
      "cell_type": "code",
      "source": [
        "X_T"
      ],
      "metadata": {
        "colab": {
          "base_uri": "https://localhost:8080/"
        },
        "id": "Ve06sY97RZTF",
        "outputId": "268f0e69-21bb-4ba5-95ff-ce7cf22c7201"
      },
      "execution_count": null,
      "outputs": [
        {
          "output_type": "execute_result",
          "data": {
            "text/plain": [
              "array([[  1.        ,   1.        ,   1.        , ...,   1.        ,\n",
              "          1.        ,   1.        ],\n",
              "       [  0.38      ,   0.44      ,   0.33000001, ...,   0.        ,\n",
              "          0.        ,   0.        ],\n",
              "       [ 17.60000038,   0.        ,  22.79999924, ...,   0.        ,\n",
              "          0.        ,   0.        ],\n",
              "       [ 35.20000076,   0.        ,  22.79999924, ...,   0.        ,\n",
              "          0.        ,   0.        ],\n",
              "       [  0.        ,   0.80000001,   0.        , ...,   1.89999998,\n",
              "          0.        , 191.30000305]])"
            ]
          },
          "metadata": {},
          "execution_count": 62
        }
      ]
    },
    {
      "cell_type": "code",
      "source": [
        "multi1=np.linalg.inv(np.dot(X_T,matrizx))"
      ],
      "metadata": {
        "id": "n2iRDKs_USu0"
      },
      "execution_count": null,
      "outputs": []
    },
    {
      "cell_type": "code",
      "source": [
        "multi1"
      ],
      "metadata": {
        "colab": {
          "base_uri": "https://localhost:8080/"
        },
        "id": "QONrIR1tVNkD",
        "outputId": "4ce751b0-d86b-4886-a083-faf1aca66270"
      },
      "execution_count": null,
      "outputs": [
        {
          "output_type": "execute_result",
          "data": {
            "text/plain": [
              "array([[ 9.44299510e-04, -8.41617442e-04, -1.19447995e-05,\n",
              "        -1.07130690e-05, -4.72408304e-06],\n",
              "       [-8.41617442e-04,  2.35284094e-03,  3.75881171e-06,\n",
              "        -8.57221489e-06,  8.39496177e-08],\n",
              "       [-1.19447995e-05,  3.75881171e-06,  2.16482353e-04,\n",
              "        -1.53017306e-04,  3.75345021e-08],\n",
              "       [-1.07130690e-05, -8.57221489e-06, -1.53017306e-04,\n",
              "         1.25642729e-04,  9.36712152e-08],\n",
              "       [-4.72408304e-06,  8.39496177e-08,  3.75345021e-08,\n",
              "         9.36712152e-08,  8.35363644e-08]])"
            ]
          },
          "metadata": {},
          "execution_count": 64
        }
      ]
    },
    {
      "cell_type": "code",
      "source": [
        "multi2=np.dot(multi1,X_T)"
      ],
      "metadata": {
        "id": "XP7vb2xuVPPb"
      },
      "execution_count": null,
      "outputs": []
    },
    {
      "cell_type": "code",
      "source": [
        "multi2"
      ],
      "metadata": {
        "colab": {
          "base_uri": "https://localhost:8080/"
        },
        "id": "LBvDPJwdVgBb",
        "outputId": "3b181e1d-9433-41b6-b64c-b7c1b81baab5"
      },
      "execution_count": null,
      "outputs": [
        {
          "output_type": "execute_result",
          "data": {
            "text/plain": [
              "array([[ 3.71563735e-05,  5.70208571e-04,  1.49966359e-04, ...,\n",
              "         9.35323752e-04,  9.44299510e-04,  4.05824094e-05],\n",
              "       [-1.83124779e-04,  1.93699726e-04, -1.74925490e-04, ...,\n",
              "        -8.41457937e-04, -8.41617442e-04, -8.25557880e-04],\n",
              "       [-1.58663627e-03, -1.02608948e-05,  1.43629861e-03, ...,\n",
              "        -1.18734839e-05, -1.19447995e-05, -4.76444914e-06],\n",
              "       [ 1.71554900e-03, -1.44099065e-05, -6.37682238e-04, ...,\n",
              "        -1.05350937e-05, -1.07130690e-05,  7.20623477e-06],\n",
              "       [-7.34348090e-07, -4.62031612e-06, -1.70488941e-06, ...,\n",
              "        -4.56536395e-06, -4.72408304e-06,  1.12564237e-05]])"
            ]
          },
          "metadata": {},
          "execution_count": 66
        }
      ]
    },
    {
      "cell_type": "code",
      "source": [
        "multi3=np.dot(multi2,y)"
      ],
      "metadata": {
        "id": "BCSrCHaYVh8D"
      },
      "execution_count": null,
      "outputs": []
    },
    {
      "cell_type": "code",
      "source": [
        "multi3 #betas\n",
        "#es la probabilidad de que exista este error, se comete cuando el investigador no rechaza la hipótesis nula siendo esta falsa en la población."
      ],
      "metadata": {
        "colab": {
          "base_uri": "https://localhost:8080/"
        },
        "id": "yRa-BPTrVrWr",
        "outputId": "ea165fe6-5313-4a38-ffa2-a3309049a82c"
      },
      "execution_count": null,
      "outputs": [
        {
          "output_type": "execute_result",
          "data": {
            "text/plain": [
              "array([[ 0.59387489],\n",
              "       [-0.16243696],\n",
              "       [-0.00618803],\n",
              "       [ 0.00771062],\n",
              "       [-0.00243615]])"
            ]
          },
          "metadata": {},
          "execution_count": 68
        }
      ]
    },
    {
      "cell_type": "code",
      "source": [
        "u=(y-matrizx@multi3)\n",
        "u"
      ],
      "metadata": {
        "colab": {
          "base_uri": "https://localhost:8080/"
        },
        "id": "EeHBA4Q5bk1h",
        "outputId": "5e2c079f-eb20-43d8-a5a6-0ae23de72d29"
      },
      "execution_count": null,
      "outputs": [
        {
          "output_type": "execute_result",
          "data": {
            "text/plain": [
              "array([[-0.69465347],\n",
              "       [ 1.47954629],\n",
              "       [ 0.42501415],\n",
              "       ...,\n",
              "       [-0.5892462 ],\n",
              "       [ 0.40612511],\n",
              "       [-0.12783923]])"
            ]
          },
          "metadata": {},
          "execution_count": 69
        }
      ]
    },
    {
      "cell_type": "code",
      "source": [
        "u_T=u.T\n",
        "u_T"
      ],
      "metadata": {
        "colab": {
          "base_uri": "https://localhost:8080/"
        },
        "id": "k60DpqXocFyZ",
        "outputId": "4bed4378-a377-4592-9e32-0cc0df26a34d"
      },
      "execution_count": null,
      "outputs": [
        {
          "output_type": "execute_result",
          "data": {
            "text/plain": [
              "array([[-0.69465347,  1.47954629,  0.42501415, ..., -0.5892462 ,\n",
              "         0.40612511, -0.12783923]])"
            ]
          },
          "metadata": {},
          "execution_count": 70
        }
      ]
    },
    {
      "cell_type": "code",
      "source": [
        "u_1= (u_T@u)\n",
        "u_1           #Varianza del error "
      ],
      "metadata": {
        "colab": {
          "base_uri": "https://localhost:8080/"
        },
        "id": "dOaA2pmscLgq",
        "outputId": "bbbe9f93-be37-4e37-ac0f-27b1838bb9ad"
      },
      "execution_count": null,
      "outputs": [
        {
          "output_type": "execute_result",
          "data": {
            "text/plain": [
              "array([[1925.92382389]])"
            ]
          },
          "metadata": {},
          "execution_count": 71
        }
      ]
    },
    {
      "cell_type": "code",
      "source": [
        "varianza_e=((u_1)/(2725-4-1))\n",
        "varianza_e"
      ],
      "metadata": {
        "colab": {
          "base_uri": "https://localhost:8080/"
        },
        "id": "iK7ibEgveWG0",
        "outputId": "33c5c626-2fe2-45fa-a4ba-91559791c87e"
      },
      "execution_count": null,
      "outputs": [
        {
          "output_type": "execute_result",
          "data": {
            "text/plain": [
              "array([[0.70806023]])"
            ]
          },
          "metadata": {},
          "execution_count": 72
        }
      ]
    },
    {
      "cell_type": "code",
      "source": [
        "var=(varianza_e*multi1)"
      ],
      "metadata": {
        "id": "OmRKHNwdg6rY"
      },
      "execution_count": null,
      "outputs": []
    },
    {
      "cell_type": "code",
      "source": [
        "var"
      ],
      "metadata": {
        "colab": {
          "base_uri": "https://localhost:8080/"
        },
        "id": "75fwvoVGlCTF",
        "outputId": "9416e887-faa9-4446-b7fe-41b503f5fda1"
      },
      "execution_count": null,
      "outputs": [
        {
          "output_type": "execute_result",
          "data": {
            "text/plain": [
              "array([[ 6.68620927e-04, -5.95915839e-04, -8.45763747e-06,\n",
              "        -7.58549809e-06, -3.34493532e-06],\n",
              "       [-5.95915839e-04,  1.66595309e-03,  2.66146508e-06,\n",
              "        -6.06964444e-06,  5.94413855e-08],\n",
              "       [-8.45763747e-06,  2.66146508e-06,  1.53282544e-04,\n",
              "        -1.08345469e-04,  2.65766881e-08],\n",
              "       [-7.58549809e-06, -6.06964444e-06, -1.08345469e-04,\n",
              "         8.89626197e-05,  6.63248621e-08],\n",
              "       [-3.34493532e-06,  5.94413855e-08,  2.65766881e-08,\n",
              "         6.63248621e-08,  5.91487773e-08]])"
            ]
          },
          "metadata": {},
          "execution_count": 74
        }
      ]
    },
    {
      "cell_type": "code",
      "source": [
        "np.diagonal(var)\n",
        "D=np.sqrt(np.diagonal(var)) #errores estadnar\n",
        "D #como podemos observar para 0.02585771  al ser el mayor error estándar de la media idica que su estimación menos precisa de la media de la población, \n",
        "#en cambio 0.00024321 nos indica una estimación mucho mas precisa"
      ],
      "metadata": {
        "colab": {
          "base_uri": "https://localhost:8080/"
        },
        "id": "SoFdsDtplD_k",
        "outputId": "ce49577d-f544-495f-f3b5-ebb9261a254e"
      },
      "execution_count": null,
      "outputs": [
        {
          "output_type": "execute_result",
          "data": {
            "text/plain": [
              "array([0.02585771, 0.04081609, 0.01238073, 0.009432  , 0.00024321])"
            ]
          },
          "metadata": {},
          "execution_count": 75
        }
      ]
    },
    {
      "cell_type": "code",
      "source": [
        "multi3.T.squeeze() / D #estadistico T\n",
        "# en general nos indica el grado de confianza de la diferencia obtenida entre las medias."
      ],
      "metadata": {
        "colab": {
          "base_uri": "https://localhost:8080/"
        },
        "id": "j11uY1F3lGkk",
        "outputId": "ad3dc5e4-42bd-4ab7-d5cb-3156f7df5bb8"
      },
      "execution_count": null,
      "outputs": [
        {
          "output_type": "execute_result",
          "data": {
            "text/plain": [
              "array([ 22.9670375 ,  -3.97972866,  -0.49981111,   0.81749603,\n",
              "       -10.01685265])"
            ]
          },
          "metadata": {},
          "execution_count": 76
        }
      ]
    },
    {
      "cell_type": "code",
      "source": [
        "multi3.T.squeeze() + 1.96*D #limite superior de los intervalo \n",
        "#Es el valor mayor de cada uno de los intervalos de confianza"
      ],
      "metadata": {
        "colab": {
          "base_uri": "https://localhost:8080/"
        },
        "id": "ntARcajzlh7b",
        "outputId": "335b7f59-56a5-4d37-942f-e0cb40850038"
      },
      "execution_count": null,
      "outputs": [
        {
          "output_type": "execute_result",
          "data": {
            "text/plain": [
              "array([ 0.64455599, -0.08243742,  0.01807821,  0.02619734, -0.00195947])"
            ]
          },
          "metadata": {},
          "execution_count": 77
        }
      ]
    },
    {
      "cell_type": "code",
      "source": [
        "multi3.T.squeeze() - 1.96*D #limite inferior\n",
        "#Es el valor menor de cada uno de los intervalos de confianza, adicionalmente estos intervalos nos ayudan a detrminar los valores atípicos debido\n",
        "#a que si estan despues de dichos intervalos se les llama datos atípicos."
      ],
      "metadata": {
        "id": "hNAZDIY9lsdb",
        "outputId": "38eb85b1-2498-4e6a-ef34-7aec6b67bf8a",
        "colab": {
          "base_uri": "https://localhost:8080/"
        }
      },
      "execution_count": null,
      "outputs": [
        {
          "output_type": "execute_result",
          "data": {
            "text/plain": [
              "array([ 0.54319379, -0.24243649, -0.03045426, -0.0107761 , -0.00291283])"
            ]
          },
          "metadata": {},
          "execution_count": 78
        }
      ]
    },
    {
      "cell_type": "code",
      "source": [
        "from operator import index\n",
        "\n",
        "class regresion():\n",
        "  def __init__(self,y,x):\n",
        "    self.x= np.concatenate((np.ones([len(y),1]),x.to_numpy()),axis=1)\n",
        "    self.y = y.to_numpy().reshape(-1,1)\n",
        "    self.n= x.shape[0] #numero de observaciones \n",
        "    self.k= x.shape[0]-1 #k\n",
        "    self.X_T= np.tranpose(self.x)\n",
        "\n",
        "  def betas(self):\n",
        "      beta=(np.linalg.inv(self.X_T@self.x)@self.X_T@y).reshape(-1,1)\n",
        "      return beta\n",
        "\n",
        "      self.sumaxb= self.x@regresion.betas(self) #resultados de x+betas\n",
        "      self.mediay= np.mean(self,y) #media de y\n",
        "      self.U= self.y-(self.sumaxb) #residuos \n",
        "      self.sec= np.sum(((self.sumaxb)-(self.mediay))**2) #suma explicada de cuadrados \n",
        "      self.src= np.sum((self.U)**2) #suma residual de cuadrados \n",
        "      self.stc= self.sec + self.src #suma total de cuadrados \n",
        "      self.rcuadrado= self.sec/self.stc #R cuadrado\n",
        "\n",
        "  def gradoslibe (self):\n",
        "    gl= self.n - self.k #grados de libertad \n",
        "    return gl\n",
        "    \n",
        "  def covarianza (self):\n",
        "      cov = (self.src/(regresion.gradoslibe(self)))*(np.linalg.inv((self.X_T@SELF.X)))\n",
        "      return cov\n",
        "  \n",
        "  def varianza(self):\n",
        "     var= np.diag(regresion.covarianza(self))\n",
        "     return var\n",
        "\n"
      ],
      "metadata": {
        "id": "UxfE0MenV_TC"
      },
      "execution_count": null,
      "outputs": []
    },
    {
      "cell_type": "code",
      "source": [
        "reg = regresion (self)"
      ],
      "metadata": {
        "colab": {
          "base_uri": "https://localhost:8080/",
          "height": 166
        },
        "id": "IC9tsUZeK_HV",
        "outputId": "8625be40-dabf-485f-d3a8-363f156faa88"
      },
      "execution_count": null,
      "outputs": [
        {
          "output_type": "error",
          "ename": "NameError",
          "evalue": "ignored",
          "traceback": [
            "\u001b[0;31m---------------------------------------------------------------------------\u001b[0m",
            "\u001b[0;31mNameError\u001b[0m                                 Traceback (most recent call last)",
            "\u001b[0;32m<ipython-input-82-88e2b5f67a54>\u001b[0m in \u001b[0;36m<module>\u001b[0;34m()\u001b[0m\n\u001b[0;32m----> 1\u001b[0;31m \u001b[0mreg\u001b[0m \u001b[0;34m=\u001b[0m \u001b[0mregresion\u001b[0m \u001b[0;34m(\u001b[0m\u001b[0mself\u001b[0m\u001b[0;34m)\u001b[0m\u001b[0;34m\u001b[0m\u001b[0;34m\u001b[0m\u001b[0m\n\u001b[0m",
            "\u001b[0;31mNameError\u001b[0m: name 'self' is not defined"
          ]
        }
      ]
    },
    {
      "cell_type": "code",
      "source": [
        "class regresion():\n",
        "\n",
        "  def __init__(self, x): \n",
        "    self.x= x\n",
        "  def mean(self):\n",
        "    return sum(self.x)/len(self.x)\n",
        "  def var(self):\n",
        "    media=sum(self.x)/len(self.x)\n",
        "    return sum((i-media)**2 for i in self.x)/(len(self.x)-1)\n",
        "  def std(self):\n",
        "    return (self.var()**(0.5))\n",
        "  def coef_var (self):\n",
        "    return self.std()/self.mean()\n",
        "  def median(self):\n",
        "    half = len(self.x)//2\n",
        "    if not len(self.x) % 2:\n",
        "      return (self.x[half - 1]+self.x[half]) / 2.0\n",
        "    return self.x[half]\n",
        "\n",
        "  def f(x):\n",
        "    self.reeg= x\n",
        "    np.random.seed()\n",
        "    self.y = y.to_numpy().reshape(len(y),1)\n",
        "    return y\n",
        "    self.x = x.to_numpy()\n",
        "    return x\n",
        "    self.betas = np.linalg.inv(self.x.T@self.x)@self.x.T@self.y\n",
        "    self.Se= np.linalg .inv(self.x.T@self.x)\n",
        "    self.t_star= scipy.stats.t.t.ppf(q=1,gl=22)\n",
        "    def error_e(self):\n",
        "    error_va = (varianza_e*(np.linalg.inv(np.dot(X_T,matrizx))\n",
        "     return error_va\n",
        "\n",
        "\n"
      ],
      "metadata": {
        "id": "PFJud0VhH_jZ"
      },
      "execution_count": null,
      "outputs": []
    },
    {
      "cell_type": "markdown",
      "source": [
        "$$(X'X)^{-1}X'y$$"
      ],
      "metadata": {
        "id": "nXprMA96h1Mh"
      }
    },
    {
      "cell_type": "code",
      "source": [
        "a = 4\n",
        "b = 5\n",
        "a + b"
      ],
      "metadata": {
        "id": "K2oPknMbhz1K"
      },
      "execution_count": null,
      "outputs": []
    },
    {
      "cell_type": "code",
      "source": [
        "def suma(a,b):\n",
        "  return a + b"
      ],
      "metadata": {
        "id": "cx9T8prkiG_r"
      },
      "execution_count": null,
      "outputs": []
    },
    {
      "cell_type": "code",
      "source": [
        "suma(4,5)"
      ],
      "metadata": {
        "id": "Nv6-XYRFiL9K"
      },
      "execution_count": null,
      "outputs": []
    },
    {
      "cell_type": "code",
      "source": [
        "class Operaciones:\n",
        "\n",
        "  def __init__(self, a, b):\n",
        "    self.a = a\n",
        "    self.b = b\n",
        "\n",
        "  def suma(self):\n",
        "    return a + b"
      ],
      "metadata": {
        "id": "A6TPV430iMrZ"
      },
      "execution_count": null,
      "outputs": []
    },
    {
      "cell_type": "code",
      "source": [
        "oper = Operaciones(4, 5)"
      ],
      "metadata": {
        "id": "MNWyL5PSiTqz"
      },
      "execution_count": null,
      "outputs": []
    },
    {
      "cell_type": "code",
      "source": [
        "oper.a"
      ],
      "metadata": {
        "id": "C7FOOeIhiV1i"
      },
      "execution_count": null,
      "outputs": []
    },
    {
      "cell_type": "code",
      "source": [
        "oper.b"
      ],
      "metadata": {
        "id": "Wi0chwGKiWRy"
      },
      "execution_count": null,
      "outputs": []
    },
    {
      "cell_type": "code",
      "source": [
        "oper.suma()"
      ],
      "metadata": {
        "id": "vxYJtgBziW06"
      },
      "execution_count": null,
      "outputs": []
    },
    {
      "cell_type": "code",
      "source": [
        "np.linalg.inv(X.T @ X) @ X.T @ y"
      ],
      "metadata": {
        "id": "92J1N8qSichL"
      },
      "execution_count": null,
      "outputs": []
    }
  ],
  "metadata": {
    "colab": {
      "name": "PROYECTO 4.ipynb",
      "provenance": [],
      "collapsed_sections": [],
      "include_colab_link": true
    },
    "kernelspec": {
      "display_name": "Python 3",
      "name": "python3"
    },
    "language_info": {
      "name": "python"
    }
  },
  "nbformat": 4,
  "nbformat_minor": 0
}