{
  "nbformat": 4,
  "nbformat_minor": 0,
  "metadata": {
    "colab": {
      "name": "Proyecto 8",
      "provenance": [],
      "authorship_tag": "ABX9TyP1V1fpl1Y9IfSfRjs149Py",
      "include_colab_link": true
    },
    "kernelspec": {
      "name": "python3",
      "display_name": "Python 3"
    },
    "language_info": {
      "name": "python"
    }
  },
  "cells": [
    {
      "cell_type": "markdown",
      "metadata": {
        "id": "view-in-github",
        "colab_type": "text"
      },
      "source": [
        "<a href=\"https://colab.research.google.com/github/Vanessavill/Vanessavill.github.io/blob/PROYECTOS-MACHINE-LEARNING/Proyecto_8.ipynb\" target=\"_parent\"><img src=\"https://colab.research.google.com/assets/colab-badge.svg\" alt=\"Open In Colab\"/></a>"
      ]
    },
    {
      "cell_type": "markdown",
      "source": [
        "#$Proyecto \\ 8$\n",
        "\n",
        "##$Julian \\ David \\ Beltrán \\ Mondragón \\ , \\ Lizeth \\ Daniela \\ Villamil \\ Gil \\ , \\ Vanessa \\ Alexandra \\ Villarreal \\ Castro$\n"
      ],
      "metadata": {
        "id": "tO4vSpckY7Xl"
      }
    },
    {
      "cell_type": "code",
      "source": [
        "import numpy as np \n",
        "import pandas as pd \n",
        "\n",
        "from scipy import linalg\n",
        "from sklearn.decomposition import PCA\n",
        "from sklearn.datasets import load_iris\n",
        "from sklearn.preprocessing import StandardScaler\n",
        "from sklearn.pipeline import make_pipeline\n",
        "\n",
        "import matplotlib.pyplot as plt \n",
        "import seaborn as sns \n",
        "import plotly.express as px \n",
        "import plotly"
      ],
      "metadata": {
        "id": "Of08sZsyZgZU"
      },
      "execution_count": 189,
      "outputs": []
    },
    {
      "cell_type": "code",
      "source": [
        "df = pd.read_csv('/content/economicas.csv')"
      ],
      "metadata": {
        "id": "i-QnWbCsaV_W"
      },
      "execution_count": 190,
      "outputs": []
    },
    {
      "cell_type": "code",
      "source": [
        "df"
      ],
      "metadata": {
        "colab": {
          "base_uri": "https://localhost:8080/",
          "height": 488
        },
        "id": "OKjUjcJQaeZs",
        "outputId": "b60ac776-2b78-4654-93f2-e669a82d32d2"
      },
      "execution_count": 191,
      "outputs": [
        {
          "output_type": "execute_result",
          "data": {
            "text/plain": [
              "     ESTU_CONSECUTIVO  RESULT_CODIGOPRUEBA RESULT_NOMBREPRUEBA  \\\n",
              "0      EK202120243329                 2001  ANÁLISIS ECONÓMICO   \n",
              "1      EK202120227314                 2001  ANÁLISIS ECONÓMICO   \n",
              "2      EK202120088295                 2001  ANÁLISIS ECONÓMICO   \n",
              "3      EK202120120119                 2001  ANÁLISIS ECONÓMICO   \n",
              "4      EK202120248108                 2001  ANÁLISIS ECONÓMICO   \n",
              "...               ...                  ...                 ...   \n",
              "3850   EK202120232172                 2001  ANÁLISIS ECONÓMICO   \n",
              "3851   EK202120320571                 2001  ANÁLISIS ECONÓMICO   \n",
              "3852   EK202120313923                 2001  ANÁLISIS ECONÓMICO   \n",
              "3853   EK202120281981                 2001  ANÁLISIS ECONÓMICO   \n",
              "3854   EK202120224998                 2001  ANÁLISIS ECONÓMICO   \n",
              "\n",
              "      RESULT_PUNTAJE  RESULT_DESEMPENO ESTU_AGREGADO ESTU_TIPODOCUMENTO  \\\n",
              "0                128                 2             S                 CC   \n",
              "1                209                 4             S                 CC   \n",
              "2                106                 1             S                 CC   \n",
              "3                 89                 1             S                 CC   \n",
              "4                122                 1             S                 CC   \n",
              "...              ...               ...           ...                ...   \n",
              "3850             151                 2             S                 CC   \n",
              "3851             162                 3             S                 CC   \n",
              "3852               0                 1             S                 CC   \n",
              "3853             110                 1             S                 CC   \n",
              "3854             115                 1             S                 CC   \n",
              "\n",
              "     ESTU_NACIONALIDAD ESTU_GENERO ESTU_FECHANACIMIENTO  ...  \\\n",
              "0             COLOMBIA           M           14/10/1996  ...   \n",
              "1             COLOMBIA           M           17/02/2001  ...   \n",
              "2             COLOMBIA           M           02/10/1991  ...   \n",
              "3             COLOMBIA           F           23/07/1998  ...   \n",
              "4             COLOMBIA           M           23/09/1997  ...   \n",
              "...                ...         ...                  ...  ...   \n",
              "3850          COLOMBIA           M           18/03/1996  ...   \n",
              "3851          COLOMBIA           F           26/07/2000  ...   \n",
              "3852          COLOMBIA           F           30/01/1989  ...   \n",
              "3853          COLOMBIA           F           23/04/1998  ...   \n",
              "3854          COLOMBIA           M           13/02/1996  ...   \n",
              "\n",
              "     MOD_COMUNI_ESCRITA_DESEM  MOD_COMUNI_ESCRITA_PNAL  \\\n",
              "0                         3.0                       71   \n",
              "1                         4.0                      100   \n",
              "2                         NaN                        1   \n",
              "3                         1.0                       12   \n",
              "4                         2.0                       20   \n",
              "...                       ...                      ...   \n",
              "3850                      3.0                       93   \n",
              "3851                      3.0                       80   \n",
              "3852                      3.0                       71   \n",
              "3853                      1.0                       14   \n",
              "3854                      1.0                        7   \n",
              "\n",
              "     MOD_COMUNI_ESCRITA_PNBC PUNT_GLOBAL PERCENTIL_NBC  PERCENTIL_GLOBAL  \\\n",
              "0                         57         201            95                99   \n",
              "1                        100         222            99               100   \n",
              "2                          1          88             1                 2   \n",
              "3                          7         159            49                71   \n",
              "4                         13         156            44                67   \n",
              "...                      ...         ...           ...               ...   \n",
              "3850                      87         196            93                98   \n",
              "3851                      69         192            90                97   \n",
              "3852                      57         158            47                70   \n",
              "3853                       9         117             6                15   \n",
              "3854                       4         147            31                54   \n",
              "\n",
              "     ESTU_INSE_INDIVIDUAL  ESTU_NSE_INDIVIDUAL ESTU_NSE_IES  \\\n",
              "0               51.049129                  2.0            3   \n",
              "1               66.866795                  4.0            4   \n",
              "2               37.751353                  1.0            2   \n",
              "3               59.846055                  4.0            2   \n",
              "4               48.248516                  2.0            2   \n",
              "...                   ...                  ...          ...   \n",
              "3850            75.589753                  4.0            4   \n",
              "3851            75.346915                  4.0            4   \n",
              "3852            48.890151                  2.0            2   \n",
              "3853            43.091355                  1.0            2   \n",
              "3854                  NaN                  NaN            2   \n",
              "\n",
              "     ESTU_ESTADOINVESTIGACION  \n",
              "0                    PUBLICAR  \n",
              "1                    PUBLICAR  \n",
              "2                    PUBLICAR  \n",
              "3                    PUBLICAR  \n",
              "4                    PUBLICAR  \n",
              "...                       ...  \n",
              "3850                 PUBLICAR  \n",
              "3851                 PUBLICAR  \n",
              "3852                 PUBLICAR  \n",
              "3853                 PUBLICAR  \n",
              "3854                 PUBLICAR  \n",
              "\n",
              "[3855 rows x 97 columns]"
            ],
            "text/html": [
              "\n",
              "  <div id=\"df-a6068dbf-4e01-4182-9a38-d1bba2949339\">\n",
              "    <div class=\"colab-df-container\">\n",
              "      <div>\n",
              "<style scoped>\n",
              "    .dataframe tbody tr th:only-of-type {\n",
              "        vertical-align: middle;\n",
              "    }\n",
              "\n",
              "    .dataframe tbody tr th {\n",
              "        vertical-align: top;\n",
              "    }\n",
              "\n",
              "    .dataframe thead th {\n",
              "        text-align: right;\n",
              "    }\n",
              "</style>\n",
              "<table border=\"1\" class=\"dataframe\">\n",
              "  <thead>\n",
              "    <tr style=\"text-align: right;\">\n",
              "      <th></th>\n",
              "      <th>ESTU_CONSECUTIVO</th>\n",
              "      <th>RESULT_CODIGOPRUEBA</th>\n",
              "      <th>RESULT_NOMBREPRUEBA</th>\n",
              "      <th>RESULT_PUNTAJE</th>\n",
              "      <th>RESULT_DESEMPENO</th>\n",
              "      <th>ESTU_AGREGADO</th>\n",
              "      <th>ESTU_TIPODOCUMENTO</th>\n",
              "      <th>ESTU_NACIONALIDAD</th>\n",
              "      <th>ESTU_GENERO</th>\n",
              "      <th>ESTU_FECHANACIMIENTO</th>\n",
              "      <th>...</th>\n",
              "      <th>MOD_COMUNI_ESCRITA_DESEM</th>\n",
              "      <th>MOD_COMUNI_ESCRITA_PNAL</th>\n",
              "      <th>MOD_COMUNI_ESCRITA_PNBC</th>\n",
              "      <th>PUNT_GLOBAL</th>\n",
              "      <th>PERCENTIL_NBC</th>\n",
              "      <th>PERCENTIL_GLOBAL</th>\n",
              "      <th>ESTU_INSE_INDIVIDUAL</th>\n",
              "      <th>ESTU_NSE_INDIVIDUAL</th>\n",
              "      <th>ESTU_NSE_IES</th>\n",
              "      <th>ESTU_ESTADOINVESTIGACION</th>\n",
              "    </tr>\n",
              "  </thead>\n",
              "  <tbody>\n",
              "    <tr>\n",
              "      <th>0</th>\n",
              "      <td>EK202120243329</td>\n",
              "      <td>2001</td>\n",
              "      <td>ANÁLISIS ECONÓMICO</td>\n",
              "      <td>128</td>\n",
              "      <td>2</td>\n",
              "      <td>S</td>\n",
              "      <td>CC</td>\n",
              "      <td>COLOMBIA</td>\n",
              "      <td>M</td>\n",
              "      <td>14/10/1996</td>\n",
              "      <td>...</td>\n",
              "      <td>3.0</td>\n",
              "      <td>71</td>\n",
              "      <td>57</td>\n",
              "      <td>201</td>\n",
              "      <td>95</td>\n",
              "      <td>99</td>\n",
              "      <td>51.049129</td>\n",
              "      <td>2.0</td>\n",
              "      <td>3</td>\n",
              "      <td>PUBLICAR</td>\n",
              "    </tr>\n",
              "    <tr>\n",
              "      <th>1</th>\n",
              "      <td>EK202120227314</td>\n",
              "      <td>2001</td>\n",
              "      <td>ANÁLISIS ECONÓMICO</td>\n",
              "      <td>209</td>\n",
              "      <td>4</td>\n",
              "      <td>S</td>\n",
              "      <td>CC</td>\n",
              "      <td>COLOMBIA</td>\n",
              "      <td>M</td>\n",
              "      <td>17/02/2001</td>\n",
              "      <td>...</td>\n",
              "      <td>4.0</td>\n",
              "      <td>100</td>\n",
              "      <td>100</td>\n",
              "      <td>222</td>\n",
              "      <td>99</td>\n",
              "      <td>100</td>\n",
              "      <td>66.866795</td>\n",
              "      <td>4.0</td>\n",
              "      <td>4</td>\n",
              "      <td>PUBLICAR</td>\n",
              "    </tr>\n",
              "    <tr>\n",
              "      <th>2</th>\n",
              "      <td>EK202120088295</td>\n",
              "      <td>2001</td>\n",
              "      <td>ANÁLISIS ECONÓMICO</td>\n",
              "      <td>106</td>\n",
              "      <td>1</td>\n",
              "      <td>S</td>\n",
              "      <td>CC</td>\n",
              "      <td>COLOMBIA</td>\n",
              "      <td>M</td>\n",
              "      <td>02/10/1991</td>\n",
              "      <td>...</td>\n",
              "      <td>NaN</td>\n",
              "      <td>1</td>\n",
              "      <td>1</td>\n",
              "      <td>88</td>\n",
              "      <td>1</td>\n",
              "      <td>2</td>\n",
              "      <td>37.751353</td>\n",
              "      <td>1.0</td>\n",
              "      <td>2</td>\n",
              "      <td>PUBLICAR</td>\n",
              "    </tr>\n",
              "    <tr>\n",
              "      <th>3</th>\n",
              "      <td>EK202120120119</td>\n",
              "      <td>2001</td>\n",
              "      <td>ANÁLISIS ECONÓMICO</td>\n",
              "      <td>89</td>\n",
              "      <td>1</td>\n",
              "      <td>S</td>\n",
              "      <td>CC</td>\n",
              "      <td>COLOMBIA</td>\n",
              "      <td>F</td>\n",
              "      <td>23/07/1998</td>\n",
              "      <td>...</td>\n",
              "      <td>1.0</td>\n",
              "      <td>12</td>\n",
              "      <td>7</td>\n",
              "      <td>159</td>\n",
              "      <td>49</td>\n",
              "      <td>71</td>\n",
              "      <td>59.846055</td>\n",
              "      <td>4.0</td>\n",
              "      <td>2</td>\n",
              "      <td>PUBLICAR</td>\n",
              "    </tr>\n",
              "    <tr>\n",
              "      <th>4</th>\n",
              "      <td>EK202120248108</td>\n",
              "      <td>2001</td>\n",
              "      <td>ANÁLISIS ECONÓMICO</td>\n",
              "      <td>122</td>\n",
              "      <td>1</td>\n",
              "      <td>S</td>\n",
              "      <td>CC</td>\n",
              "      <td>COLOMBIA</td>\n",
              "      <td>M</td>\n",
              "      <td>23/09/1997</td>\n",
              "      <td>...</td>\n",
              "      <td>2.0</td>\n",
              "      <td>20</td>\n",
              "      <td>13</td>\n",
              "      <td>156</td>\n",
              "      <td>44</td>\n",
              "      <td>67</td>\n",
              "      <td>48.248516</td>\n",
              "      <td>2.0</td>\n",
              "      <td>2</td>\n",
              "      <td>PUBLICAR</td>\n",
              "    </tr>\n",
              "    <tr>\n",
              "      <th>...</th>\n",
              "      <td>...</td>\n",
              "      <td>...</td>\n",
              "      <td>...</td>\n",
              "      <td>...</td>\n",
              "      <td>...</td>\n",
              "      <td>...</td>\n",
              "      <td>...</td>\n",
              "      <td>...</td>\n",
              "      <td>...</td>\n",
              "      <td>...</td>\n",
              "      <td>...</td>\n",
              "      <td>...</td>\n",
              "      <td>...</td>\n",
              "      <td>...</td>\n",
              "      <td>...</td>\n",
              "      <td>...</td>\n",
              "      <td>...</td>\n",
              "      <td>...</td>\n",
              "      <td>...</td>\n",
              "      <td>...</td>\n",
              "      <td>...</td>\n",
              "    </tr>\n",
              "    <tr>\n",
              "      <th>3850</th>\n",
              "      <td>EK202120232172</td>\n",
              "      <td>2001</td>\n",
              "      <td>ANÁLISIS ECONÓMICO</td>\n",
              "      <td>151</td>\n",
              "      <td>2</td>\n",
              "      <td>S</td>\n",
              "      <td>CC</td>\n",
              "      <td>COLOMBIA</td>\n",
              "      <td>M</td>\n",
              "      <td>18/03/1996</td>\n",
              "      <td>...</td>\n",
              "      <td>3.0</td>\n",
              "      <td>93</td>\n",
              "      <td>87</td>\n",
              "      <td>196</td>\n",
              "      <td>93</td>\n",
              "      <td>98</td>\n",
              "      <td>75.589753</td>\n",
              "      <td>4.0</td>\n",
              "      <td>4</td>\n",
              "      <td>PUBLICAR</td>\n",
              "    </tr>\n",
              "    <tr>\n",
              "      <th>3851</th>\n",
              "      <td>EK202120320571</td>\n",
              "      <td>2001</td>\n",
              "      <td>ANÁLISIS ECONÓMICO</td>\n",
              "      <td>162</td>\n",
              "      <td>3</td>\n",
              "      <td>S</td>\n",
              "      <td>CC</td>\n",
              "      <td>COLOMBIA</td>\n",
              "      <td>F</td>\n",
              "      <td>26/07/2000</td>\n",
              "      <td>...</td>\n",
              "      <td>3.0</td>\n",
              "      <td>80</td>\n",
              "      <td>69</td>\n",
              "      <td>192</td>\n",
              "      <td>90</td>\n",
              "      <td>97</td>\n",
              "      <td>75.346915</td>\n",
              "      <td>4.0</td>\n",
              "      <td>4</td>\n",
              "      <td>PUBLICAR</td>\n",
              "    </tr>\n",
              "    <tr>\n",
              "      <th>3852</th>\n",
              "      <td>EK202120313923</td>\n",
              "      <td>2001</td>\n",
              "      <td>ANÁLISIS ECONÓMICO</td>\n",
              "      <td>0</td>\n",
              "      <td>1</td>\n",
              "      <td>S</td>\n",
              "      <td>CC</td>\n",
              "      <td>COLOMBIA</td>\n",
              "      <td>F</td>\n",
              "      <td>30/01/1989</td>\n",
              "      <td>...</td>\n",
              "      <td>3.0</td>\n",
              "      <td>71</td>\n",
              "      <td>57</td>\n",
              "      <td>158</td>\n",
              "      <td>47</td>\n",
              "      <td>70</td>\n",
              "      <td>48.890151</td>\n",
              "      <td>2.0</td>\n",
              "      <td>2</td>\n",
              "      <td>PUBLICAR</td>\n",
              "    </tr>\n",
              "    <tr>\n",
              "      <th>3853</th>\n",
              "      <td>EK202120281981</td>\n",
              "      <td>2001</td>\n",
              "      <td>ANÁLISIS ECONÓMICO</td>\n",
              "      <td>110</td>\n",
              "      <td>1</td>\n",
              "      <td>S</td>\n",
              "      <td>CC</td>\n",
              "      <td>COLOMBIA</td>\n",
              "      <td>F</td>\n",
              "      <td>23/04/1998</td>\n",
              "      <td>...</td>\n",
              "      <td>1.0</td>\n",
              "      <td>14</td>\n",
              "      <td>9</td>\n",
              "      <td>117</td>\n",
              "      <td>6</td>\n",
              "      <td>15</td>\n",
              "      <td>43.091355</td>\n",
              "      <td>1.0</td>\n",
              "      <td>2</td>\n",
              "      <td>PUBLICAR</td>\n",
              "    </tr>\n",
              "    <tr>\n",
              "      <th>3854</th>\n",
              "      <td>EK202120224998</td>\n",
              "      <td>2001</td>\n",
              "      <td>ANÁLISIS ECONÓMICO</td>\n",
              "      <td>115</td>\n",
              "      <td>1</td>\n",
              "      <td>S</td>\n",
              "      <td>CC</td>\n",
              "      <td>COLOMBIA</td>\n",
              "      <td>M</td>\n",
              "      <td>13/02/1996</td>\n",
              "      <td>...</td>\n",
              "      <td>1.0</td>\n",
              "      <td>7</td>\n",
              "      <td>4</td>\n",
              "      <td>147</td>\n",
              "      <td>31</td>\n",
              "      <td>54</td>\n",
              "      <td>NaN</td>\n",
              "      <td>NaN</td>\n",
              "      <td>2</td>\n",
              "      <td>PUBLICAR</td>\n",
              "    </tr>\n",
              "  </tbody>\n",
              "</table>\n",
              "<p>3855 rows × 97 columns</p>\n",
              "</div>\n",
              "      <button class=\"colab-df-convert\" onclick=\"convertToInteractive('df-a6068dbf-4e01-4182-9a38-d1bba2949339')\"\n",
              "              title=\"Convert this dataframe to an interactive table.\"\n",
              "              style=\"display:none;\">\n",
              "        \n",
              "  <svg xmlns=\"http://www.w3.org/2000/svg\" height=\"24px\"viewBox=\"0 0 24 24\"\n",
              "       width=\"24px\">\n",
              "    <path d=\"M0 0h24v24H0V0z\" fill=\"none\"/>\n",
              "    <path d=\"M18.56 5.44l.94 2.06.94-2.06 2.06-.94-2.06-.94-.94-2.06-.94 2.06-2.06.94zm-11 1L8.5 8.5l.94-2.06 2.06-.94-2.06-.94L8.5 2.5l-.94 2.06-2.06.94zm10 10l.94 2.06.94-2.06 2.06-.94-2.06-.94-.94-2.06-.94 2.06-2.06.94z\"/><path d=\"M17.41 7.96l-1.37-1.37c-.4-.4-.92-.59-1.43-.59-.52 0-1.04.2-1.43.59L10.3 9.45l-7.72 7.72c-.78.78-.78 2.05 0 2.83L4 21.41c.39.39.9.59 1.41.59.51 0 1.02-.2 1.41-.59l7.78-7.78 2.81-2.81c.8-.78.8-2.07 0-2.86zM5.41 20L4 18.59l7.72-7.72 1.47 1.35L5.41 20z\"/>\n",
              "  </svg>\n",
              "      </button>\n",
              "      \n",
              "  <style>\n",
              "    .colab-df-container {\n",
              "      display:flex;\n",
              "      flex-wrap:wrap;\n",
              "      gap: 12px;\n",
              "    }\n",
              "\n",
              "    .colab-df-convert {\n",
              "      background-color: #E8F0FE;\n",
              "      border: none;\n",
              "      border-radius: 50%;\n",
              "      cursor: pointer;\n",
              "      display: none;\n",
              "      fill: #1967D2;\n",
              "      height: 32px;\n",
              "      padding: 0 0 0 0;\n",
              "      width: 32px;\n",
              "    }\n",
              "\n",
              "    .colab-df-convert:hover {\n",
              "      background-color: #E2EBFA;\n",
              "      box-shadow: 0px 1px 2px rgba(60, 64, 67, 0.3), 0px 1px 3px 1px rgba(60, 64, 67, 0.15);\n",
              "      fill: #174EA6;\n",
              "    }\n",
              "\n",
              "    [theme=dark] .colab-df-convert {\n",
              "      background-color: #3B4455;\n",
              "      fill: #D2E3FC;\n",
              "    }\n",
              "\n",
              "    [theme=dark] .colab-df-convert:hover {\n",
              "      background-color: #434B5C;\n",
              "      box-shadow: 0px 1px 3px 1px rgba(0, 0, 0, 0.15);\n",
              "      filter: drop-shadow(0px 1px 2px rgba(0, 0, 0, 0.3));\n",
              "      fill: #FFFFFF;\n",
              "    }\n",
              "  </style>\n",
              "\n",
              "      <script>\n",
              "        const buttonEl =\n",
              "          document.querySelector('#df-a6068dbf-4e01-4182-9a38-d1bba2949339 button.colab-df-convert');\n",
              "        buttonEl.style.display =\n",
              "          google.colab.kernel.accessAllowed ? 'block' : 'none';\n",
              "\n",
              "        async function convertToInteractive(key) {\n",
              "          const element = document.querySelector('#df-a6068dbf-4e01-4182-9a38-d1bba2949339');\n",
              "          const dataTable =\n",
              "            await google.colab.kernel.invokeFunction('convertToInteractive',\n",
              "                                                     [key], {});\n",
              "          if (!dataTable) return;\n",
              "\n",
              "          const docLinkHtml = 'Like what you see? Visit the ' +\n",
              "            '<a target=\"_blank\" href=https://colab.research.google.com/notebooks/data_table.ipynb>data table notebook</a>'\n",
              "            + ' to learn more about interactive tables.';\n",
              "          element.innerHTML = '';\n",
              "          dataTable['output_type'] = 'display_data';\n",
              "          await google.colab.output.renderOutput(dataTable, element);\n",
              "          const docLink = document.createElement('div');\n",
              "          docLink.innerHTML = docLinkHtml;\n",
              "          element.appendChild(docLink);\n",
              "        }\n",
              "      </script>\n",
              "    </div>\n",
              "  </div>\n",
              "  "
            ]
          },
          "metadata": {},
          "execution_count": 191
        }
      ]
    },
    {
      "cell_type": "code",
      "source": [
        "df = df[['RESULT_PUNTAJE'\t,'PUNT_GLOBAL', 'RESULT_DESEMPENO', 'PERCENTIL_GLOBAL']]"
      ],
      "metadata": {
        "id": "HIHWreNjc2dT"
      },
      "execution_count": 192,
      "outputs": []
    },
    {
      "cell_type": "code",
      "source": [
        "df"
      ],
      "metadata": {
        "colab": {
          "base_uri": "https://localhost:8080/",
          "height": 424
        },
        "id": "wGijiBFDc2UF",
        "outputId": "56c12250-6da1-4644-d88b-878f62d74311"
      },
      "execution_count": 193,
      "outputs": [
        {
          "output_type": "execute_result",
          "data": {
            "text/plain": [
              "      RESULT_PUNTAJE  PUNT_GLOBAL  RESULT_DESEMPENO  PERCENTIL_GLOBAL\n",
              "0                128          201                 2                99\n",
              "1                209          222                 4               100\n",
              "2                106           88                 1                 2\n",
              "3                 89          159                 1                71\n",
              "4                122          156                 1                67\n",
              "...              ...          ...               ...               ...\n",
              "3850             151          196                 2                98\n",
              "3851             162          192                 3                97\n",
              "3852               0          158                 1                70\n",
              "3853             110          117                 1                15\n",
              "3854             115          147                 1                54\n",
              "\n",
              "[3855 rows x 4 columns]"
            ],
            "text/html": [
              "\n",
              "  <div id=\"df-5959d14b-9e42-4698-a981-eef12e1e6726\">\n",
              "    <div class=\"colab-df-container\">\n",
              "      <div>\n",
              "<style scoped>\n",
              "    .dataframe tbody tr th:only-of-type {\n",
              "        vertical-align: middle;\n",
              "    }\n",
              "\n",
              "    .dataframe tbody tr th {\n",
              "        vertical-align: top;\n",
              "    }\n",
              "\n",
              "    .dataframe thead th {\n",
              "        text-align: right;\n",
              "    }\n",
              "</style>\n",
              "<table border=\"1\" class=\"dataframe\">\n",
              "  <thead>\n",
              "    <tr style=\"text-align: right;\">\n",
              "      <th></th>\n",
              "      <th>RESULT_PUNTAJE</th>\n",
              "      <th>PUNT_GLOBAL</th>\n",
              "      <th>RESULT_DESEMPENO</th>\n",
              "      <th>PERCENTIL_GLOBAL</th>\n",
              "    </tr>\n",
              "  </thead>\n",
              "  <tbody>\n",
              "    <tr>\n",
              "      <th>0</th>\n",
              "      <td>128</td>\n",
              "      <td>201</td>\n",
              "      <td>2</td>\n",
              "      <td>99</td>\n",
              "    </tr>\n",
              "    <tr>\n",
              "      <th>1</th>\n",
              "      <td>209</td>\n",
              "      <td>222</td>\n",
              "      <td>4</td>\n",
              "      <td>100</td>\n",
              "    </tr>\n",
              "    <tr>\n",
              "      <th>2</th>\n",
              "      <td>106</td>\n",
              "      <td>88</td>\n",
              "      <td>1</td>\n",
              "      <td>2</td>\n",
              "    </tr>\n",
              "    <tr>\n",
              "      <th>3</th>\n",
              "      <td>89</td>\n",
              "      <td>159</td>\n",
              "      <td>1</td>\n",
              "      <td>71</td>\n",
              "    </tr>\n",
              "    <tr>\n",
              "      <th>4</th>\n",
              "      <td>122</td>\n",
              "      <td>156</td>\n",
              "      <td>1</td>\n",
              "      <td>67</td>\n",
              "    </tr>\n",
              "    <tr>\n",
              "      <th>...</th>\n",
              "      <td>...</td>\n",
              "      <td>...</td>\n",
              "      <td>...</td>\n",
              "      <td>...</td>\n",
              "    </tr>\n",
              "    <tr>\n",
              "      <th>3850</th>\n",
              "      <td>151</td>\n",
              "      <td>196</td>\n",
              "      <td>2</td>\n",
              "      <td>98</td>\n",
              "    </tr>\n",
              "    <tr>\n",
              "      <th>3851</th>\n",
              "      <td>162</td>\n",
              "      <td>192</td>\n",
              "      <td>3</td>\n",
              "      <td>97</td>\n",
              "    </tr>\n",
              "    <tr>\n",
              "      <th>3852</th>\n",
              "      <td>0</td>\n",
              "      <td>158</td>\n",
              "      <td>1</td>\n",
              "      <td>70</td>\n",
              "    </tr>\n",
              "    <tr>\n",
              "      <th>3853</th>\n",
              "      <td>110</td>\n",
              "      <td>117</td>\n",
              "      <td>1</td>\n",
              "      <td>15</td>\n",
              "    </tr>\n",
              "    <tr>\n",
              "      <th>3854</th>\n",
              "      <td>115</td>\n",
              "      <td>147</td>\n",
              "      <td>1</td>\n",
              "      <td>54</td>\n",
              "    </tr>\n",
              "  </tbody>\n",
              "</table>\n",
              "<p>3855 rows × 4 columns</p>\n",
              "</div>\n",
              "      <button class=\"colab-df-convert\" onclick=\"convertToInteractive('df-5959d14b-9e42-4698-a981-eef12e1e6726')\"\n",
              "              title=\"Convert this dataframe to an interactive table.\"\n",
              "              style=\"display:none;\">\n",
              "        \n",
              "  <svg xmlns=\"http://www.w3.org/2000/svg\" height=\"24px\"viewBox=\"0 0 24 24\"\n",
              "       width=\"24px\">\n",
              "    <path d=\"M0 0h24v24H0V0z\" fill=\"none\"/>\n",
              "    <path d=\"M18.56 5.44l.94 2.06.94-2.06 2.06-.94-2.06-.94-.94-2.06-.94 2.06-2.06.94zm-11 1L8.5 8.5l.94-2.06 2.06-.94-2.06-.94L8.5 2.5l-.94 2.06-2.06.94zm10 10l.94 2.06.94-2.06 2.06-.94-2.06-.94-.94-2.06-.94 2.06-2.06.94z\"/><path d=\"M17.41 7.96l-1.37-1.37c-.4-.4-.92-.59-1.43-.59-.52 0-1.04.2-1.43.59L10.3 9.45l-7.72 7.72c-.78.78-.78 2.05 0 2.83L4 21.41c.39.39.9.59 1.41.59.51 0 1.02-.2 1.41-.59l7.78-7.78 2.81-2.81c.8-.78.8-2.07 0-2.86zM5.41 20L4 18.59l7.72-7.72 1.47 1.35L5.41 20z\"/>\n",
              "  </svg>\n",
              "      </button>\n",
              "      \n",
              "  <style>\n",
              "    .colab-df-container {\n",
              "      display:flex;\n",
              "      flex-wrap:wrap;\n",
              "      gap: 12px;\n",
              "    }\n",
              "\n",
              "    .colab-df-convert {\n",
              "      background-color: #E8F0FE;\n",
              "      border: none;\n",
              "      border-radius: 50%;\n",
              "      cursor: pointer;\n",
              "      display: none;\n",
              "      fill: #1967D2;\n",
              "      height: 32px;\n",
              "      padding: 0 0 0 0;\n",
              "      width: 32px;\n",
              "    }\n",
              "\n",
              "    .colab-df-convert:hover {\n",
              "      background-color: #E2EBFA;\n",
              "      box-shadow: 0px 1px 2px rgba(60, 64, 67, 0.3), 0px 1px 3px 1px rgba(60, 64, 67, 0.15);\n",
              "      fill: #174EA6;\n",
              "    }\n",
              "\n",
              "    [theme=dark] .colab-df-convert {\n",
              "      background-color: #3B4455;\n",
              "      fill: #D2E3FC;\n",
              "    }\n",
              "\n",
              "    [theme=dark] .colab-df-convert:hover {\n",
              "      background-color: #434B5C;\n",
              "      box-shadow: 0px 1px 3px 1px rgba(0, 0, 0, 0.15);\n",
              "      filter: drop-shadow(0px 1px 2px rgba(0, 0, 0, 0.3));\n",
              "      fill: #FFFFFF;\n",
              "    }\n",
              "  </style>\n",
              "\n",
              "      <script>\n",
              "        const buttonEl =\n",
              "          document.querySelector('#df-5959d14b-9e42-4698-a981-eef12e1e6726 button.colab-df-convert');\n",
              "        buttonEl.style.display =\n",
              "          google.colab.kernel.accessAllowed ? 'block' : 'none';\n",
              "\n",
              "        async function convertToInteractive(key) {\n",
              "          const element = document.querySelector('#df-5959d14b-9e42-4698-a981-eef12e1e6726');\n",
              "          const dataTable =\n",
              "            await google.colab.kernel.invokeFunction('convertToInteractive',\n",
              "                                                     [key], {});\n",
              "          if (!dataTable) return;\n",
              "\n",
              "          const docLinkHtml = 'Like what you see? Visit the ' +\n",
              "            '<a target=\"_blank\" href=https://colab.research.google.com/notebooks/data_table.ipynb>data table notebook</a>'\n",
              "            + ' to learn more about interactive tables.';\n",
              "          element.innerHTML = '';\n",
              "          dataTable['output_type'] = 'display_data';\n",
              "          await google.colab.output.renderOutput(dataTable, element);\n",
              "          const docLink = document.createElement('div');\n",
              "          docLink.innerHTML = docLinkHtml;\n",
              "          element.appendChild(docLink);\n",
              "        }\n",
              "      </script>\n",
              "    </div>\n",
              "  </div>\n",
              "  "
            ]
          },
          "metadata": {},
          "execution_count": 193
        }
      ]
    },
    {
      "cell_type": "code",
      "source": [
        "df.info()"
      ],
      "metadata": {
        "colab": {
          "base_uri": "https://localhost:8080/"
        },
        "id": "FNKEpIiLc2PL",
        "outputId": "41b08d2e-a58e-4983-e5de-37da46fa176b"
      },
      "execution_count": 194,
      "outputs": [
        {
          "output_type": "stream",
          "name": "stdout",
          "text": [
            "<class 'pandas.core.frame.DataFrame'>\n",
            "RangeIndex: 3855 entries, 0 to 3854\n",
            "Data columns (total 4 columns):\n",
            " #   Column            Non-Null Count  Dtype\n",
            "---  ------            --------------  -----\n",
            " 0   RESULT_PUNTAJE    3855 non-null   int64\n",
            " 1   PUNT_GLOBAL       3855 non-null   int64\n",
            " 2   RESULT_DESEMPENO  3855 non-null   int64\n",
            " 3   PERCENTIL_GLOBAL  3855 non-null   int64\n",
            "dtypes: int64(4)\n",
            "memory usage: 120.6 KB\n"
          ]
        }
      ]
    },
    {
      "cell_type": "code",
      "source": [
        "np.isnan(df.any()) #and gets False\n",
        "np.isfinite(df.all()) #and gets True"
      ],
      "metadata": {
        "colab": {
          "base_uri": "https://localhost:8080/"
        },
        "id": "2o6W42gOlE9F",
        "outputId": "d9d27aa3-a2bf-45f7-9018-3e26895f6dd6"
      },
      "execution_count": 195,
      "outputs": [
        {
          "output_type": "execute_result",
          "data": {
            "text/plain": [
              "RESULT_PUNTAJE      True\n",
              "PUNT_GLOBAL         True\n",
              "RESULT_DESEMPENO    True\n",
              "PERCENTIL_GLOBAL    True\n",
              "dtype: bool"
            ]
          },
          "metadata": {},
          "execution_count": 195
        }
      ]
    },
    {
      "cell_type": "code",
      "source": [
        "df.head()"
      ],
      "metadata": {
        "colab": {
          "base_uri": "https://localhost:8080/",
          "height": 206
        },
        "id": "wYsZ8zIjc2Iz",
        "outputId": "47ef968e-c13e-49b7-d445-2a00939903d0"
      },
      "execution_count": 196,
      "outputs": [
        {
          "output_type": "execute_result",
          "data": {
            "text/plain": [
              "   RESULT_PUNTAJE  PUNT_GLOBAL  RESULT_DESEMPENO  PERCENTIL_GLOBAL\n",
              "0             128          201                 2                99\n",
              "1             209          222                 4               100\n",
              "2             106           88                 1                 2\n",
              "3              89          159                 1                71\n",
              "4             122          156                 1                67"
            ],
            "text/html": [
              "\n",
              "  <div id=\"df-71aceac7-f422-4367-9537-dfdfee26ce47\">\n",
              "    <div class=\"colab-df-container\">\n",
              "      <div>\n",
              "<style scoped>\n",
              "    .dataframe tbody tr th:only-of-type {\n",
              "        vertical-align: middle;\n",
              "    }\n",
              "\n",
              "    .dataframe tbody tr th {\n",
              "        vertical-align: top;\n",
              "    }\n",
              "\n",
              "    .dataframe thead th {\n",
              "        text-align: right;\n",
              "    }\n",
              "</style>\n",
              "<table border=\"1\" class=\"dataframe\">\n",
              "  <thead>\n",
              "    <tr style=\"text-align: right;\">\n",
              "      <th></th>\n",
              "      <th>RESULT_PUNTAJE</th>\n",
              "      <th>PUNT_GLOBAL</th>\n",
              "      <th>RESULT_DESEMPENO</th>\n",
              "      <th>PERCENTIL_GLOBAL</th>\n",
              "    </tr>\n",
              "  </thead>\n",
              "  <tbody>\n",
              "    <tr>\n",
              "      <th>0</th>\n",
              "      <td>128</td>\n",
              "      <td>201</td>\n",
              "      <td>2</td>\n",
              "      <td>99</td>\n",
              "    </tr>\n",
              "    <tr>\n",
              "      <th>1</th>\n",
              "      <td>209</td>\n",
              "      <td>222</td>\n",
              "      <td>4</td>\n",
              "      <td>100</td>\n",
              "    </tr>\n",
              "    <tr>\n",
              "      <th>2</th>\n",
              "      <td>106</td>\n",
              "      <td>88</td>\n",
              "      <td>1</td>\n",
              "      <td>2</td>\n",
              "    </tr>\n",
              "    <tr>\n",
              "      <th>3</th>\n",
              "      <td>89</td>\n",
              "      <td>159</td>\n",
              "      <td>1</td>\n",
              "      <td>71</td>\n",
              "    </tr>\n",
              "    <tr>\n",
              "      <th>4</th>\n",
              "      <td>122</td>\n",
              "      <td>156</td>\n",
              "      <td>1</td>\n",
              "      <td>67</td>\n",
              "    </tr>\n",
              "  </tbody>\n",
              "</table>\n",
              "</div>\n",
              "      <button class=\"colab-df-convert\" onclick=\"convertToInteractive('df-71aceac7-f422-4367-9537-dfdfee26ce47')\"\n",
              "              title=\"Convert this dataframe to an interactive table.\"\n",
              "              style=\"display:none;\">\n",
              "        \n",
              "  <svg xmlns=\"http://www.w3.org/2000/svg\" height=\"24px\"viewBox=\"0 0 24 24\"\n",
              "       width=\"24px\">\n",
              "    <path d=\"M0 0h24v24H0V0z\" fill=\"none\"/>\n",
              "    <path d=\"M18.56 5.44l.94 2.06.94-2.06 2.06-.94-2.06-.94-.94-2.06-.94 2.06-2.06.94zm-11 1L8.5 8.5l.94-2.06 2.06-.94-2.06-.94L8.5 2.5l-.94 2.06-2.06.94zm10 10l.94 2.06.94-2.06 2.06-.94-2.06-.94-.94-2.06-.94 2.06-2.06.94z\"/><path d=\"M17.41 7.96l-1.37-1.37c-.4-.4-.92-.59-1.43-.59-.52 0-1.04.2-1.43.59L10.3 9.45l-7.72 7.72c-.78.78-.78 2.05 0 2.83L4 21.41c.39.39.9.59 1.41.59.51 0 1.02-.2 1.41-.59l7.78-7.78 2.81-2.81c.8-.78.8-2.07 0-2.86zM5.41 20L4 18.59l7.72-7.72 1.47 1.35L5.41 20z\"/>\n",
              "  </svg>\n",
              "      </button>\n",
              "      \n",
              "  <style>\n",
              "    .colab-df-container {\n",
              "      display:flex;\n",
              "      flex-wrap:wrap;\n",
              "      gap: 12px;\n",
              "    }\n",
              "\n",
              "    .colab-df-convert {\n",
              "      background-color: #E8F0FE;\n",
              "      border: none;\n",
              "      border-radius: 50%;\n",
              "      cursor: pointer;\n",
              "      display: none;\n",
              "      fill: #1967D2;\n",
              "      height: 32px;\n",
              "      padding: 0 0 0 0;\n",
              "      width: 32px;\n",
              "    }\n",
              "\n",
              "    .colab-df-convert:hover {\n",
              "      background-color: #E2EBFA;\n",
              "      box-shadow: 0px 1px 2px rgba(60, 64, 67, 0.3), 0px 1px 3px 1px rgba(60, 64, 67, 0.15);\n",
              "      fill: #174EA6;\n",
              "    }\n",
              "\n",
              "    [theme=dark] .colab-df-convert {\n",
              "      background-color: #3B4455;\n",
              "      fill: #D2E3FC;\n",
              "    }\n",
              "\n",
              "    [theme=dark] .colab-df-convert:hover {\n",
              "      background-color: #434B5C;\n",
              "      box-shadow: 0px 1px 3px 1px rgba(0, 0, 0, 0.15);\n",
              "      filter: drop-shadow(0px 1px 2px rgba(0, 0, 0, 0.3));\n",
              "      fill: #FFFFFF;\n",
              "    }\n",
              "  </style>\n",
              "\n",
              "      <script>\n",
              "        const buttonEl =\n",
              "          document.querySelector('#df-71aceac7-f422-4367-9537-dfdfee26ce47 button.colab-df-convert');\n",
              "        buttonEl.style.display =\n",
              "          google.colab.kernel.accessAllowed ? 'block' : 'none';\n",
              "\n",
              "        async function convertToInteractive(key) {\n",
              "          const element = document.querySelector('#df-71aceac7-f422-4367-9537-dfdfee26ce47');\n",
              "          const dataTable =\n",
              "            await google.colab.kernel.invokeFunction('convertToInteractive',\n",
              "                                                     [key], {});\n",
              "          if (!dataTable) return;\n",
              "\n",
              "          const docLinkHtml = 'Like what you see? Visit the ' +\n",
              "            '<a target=\"_blank\" href=https://colab.research.google.com/notebooks/data_table.ipynb>data table notebook</a>'\n",
              "            + ' to learn more about interactive tables.';\n",
              "          element.innerHTML = '';\n",
              "          dataTable['output_type'] = 'display_data';\n",
              "          await google.colab.output.renderOutput(dataTable, element);\n",
              "          const docLink = document.createElement('div');\n",
              "          docLink.innerHTML = docLinkHtml;\n",
              "          element.appendChild(docLink);\n",
              "        }\n",
              "      </script>\n",
              "    </div>\n",
              "  </div>\n",
              "  "
            ]
          },
          "metadata": {},
          "execution_count": 196
        }
      ]
    },
    {
      "cell_type": "code",
      "source": [
        "df.tail()"
      ],
      "metadata": {
        "colab": {
          "base_uri": "https://localhost:8080/",
          "height": 206
        },
        "id": "pbB3B9ELc2Ab",
        "outputId": "8e553532-67a0-4bf7-fe2b-d68decc27024"
      },
      "execution_count": 197,
      "outputs": [
        {
          "output_type": "execute_result",
          "data": {
            "text/plain": [
              "      RESULT_PUNTAJE  PUNT_GLOBAL  RESULT_DESEMPENO  PERCENTIL_GLOBAL\n",
              "3850             151          196                 2                98\n",
              "3851             162          192                 3                97\n",
              "3852               0          158                 1                70\n",
              "3853             110          117                 1                15\n",
              "3854             115          147                 1                54"
            ],
            "text/html": [
              "\n",
              "  <div id=\"df-c5f4d6e8-908b-4f2c-8eb5-e605aef082cf\">\n",
              "    <div class=\"colab-df-container\">\n",
              "      <div>\n",
              "<style scoped>\n",
              "    .dataframe tbody tr th:only-of-type {\n",
              "        vertical-align: middle;\n",
              "    }\n",
              "\n",
              "    .dataframe tbody tr th {\n",
              "        vertical-align: top;\n",
              "    }\n",
              "\n",
              "    .dataframe thead th {\n",
              "        text-align: right;\n",
              "    }\n",
              "</style>\n",
              "<table border=\"1\" class=\"dataframe\">\n",
              "  <thead>\n",
              "    <tr style=\"text-align: right;\">\n",
              "      <th></th>\n",
              "      <th>RESULT_PUNTAJE</th>\n",
              "      <th>PUNT_GLOBAL</th>\n",
              "      <th>RESULT_DESEMPENO</th>\n",
              "      <th>PERCENTIL_GLOBAL</th>\n",
              "    </tr>\n",
              "  </thead>\n",
              "  <tbody>\n",
              "    <tr>\n",
              "      <th>3850</th>\n",
              "      <td>151</td>\n",
              "      <td>196</td>\n",
              "      <td>2</td>\n",
              "      <td>98</td>\n",
              "    </tr>\n",
              "    <tr>\n",
              "      <th>3851</th>\n",
              "      <td>162</td>\n",
              "      <td>192</td>\n",
              "      <td>3</td>\n",
              "      <td>97</td>\n",
              "    </tr>\n",
              "    <tr>\n",
              "      <th>3852</th>\n",
              "      <td>0</td>\n",
              "      <td>158</td>\n",
              "      <td>1</td>\n",
              "      <td>70</td>\n",
              "    </tr>\n",
              "    <tr>\n",
              "      <th>3853</th>\n",
              "      <td>110</td>\n",
              "      <td>117</td>\n",
              "      <td>1</td>\n",
              "      <td>15</td>\n",
              "    </tr>\n",
              "    <tr>\n",
              "      <th>3854</th>\n",
              "      <td>115</td>\n",
              "      <td>147</td>\n",
              "      <td>1</td>\n",
              "      <td>54</td>\n",
              "    </tr>\n",
              "  </tbody>\n",
              "</table>\n",
              "</div>\n",
              "      <button class=\"colab-df-convert\" onclick=\"convertToInteractive('df-c5f4d6e8-908b-4f2c-8eb5-e605aef082cf')\"\n",
              "              title=\"Convert this dataframe to an interactive table.\"\n",
              "              style=\"display:none;\">\n",
              "        \n",
              "  <svg xmlns=\"http://www.w3.org/2000/svg\" height=\"24px\"viewBox=\"0 0 24 24\"\n",
              "       width=\"24px\">\n",
              "    <path d=\"M0 0h24v24H0V0z\" fill=\"none\"/>\n",
              "    <path d=\"M18.56 5.44l.94 2.06.94-2.06 2.06-.94-2.06-.94-.94-2.06-.94 2.06-2.06.94zm-11 1L8.5 8.5l.94-2.06 2.06-.94-2.06-.94L8.5 2.5l-.94 2.06-2.06.94zm10 10l.94 2.06.94-2.06 2.06-.94-2.06-.94-.94-2.06-.94 2.06-2.06.94z\"/><path d=\"M17.41 7.96l-1.37-1.37c-.4-.4-.92-.59-1.43-.59-.52 0-1.04.2-1.43.59L10.3 9.45l-7.72 7.72c-.78.78-.78 2.05 0 2.83L4 21.41c.39.39.9.59 1.41.59.51 0 1.02-.2 1.41-.59l7.78-7.78 2.81-2.81c.8-.78.8-2.07 0-2.86zM5.41 20L4 18.59l7.72-7.72 1.47 1.35L5.41 20z\"/>\n",
              "  </svg>\n",
              "      </button>\n",
              "      \n",
              "  <style>\n",
              "    .colab-df-container {\n",
              "      display:flex;\n",
              "      flex-wrap:wrap;\n",
              "      gap: 12px;\n",
              "    }\n",
              "\n",
              "    .colab-df-convert {\n",
              "      background-color: #E8F0FE;\n",
              "      border: none;\n",
              "      border-radius: 50%;\n",
              "      cursor: pointer;\n",
              "      display: none;\n",
              "      fill: #1967D2;\n",
              "      height: 32px;\n",
              "      padding: 0 0 0 0;\n",
              "      width: 32px;\n",
              "    }\n",
              "\n",
              "    .colab-df-convert:hover {\n",
              "      background-color: #E2EBFA;\n",
              "      box-shadow: 0px 1px 2px rgba(60, 64, 67, 0.3), 0px 1px 3px 1px rgba(60, 64, 67, 0.15);\n",
              "      fill: #174EA6;\n",
              "    }\n",
              "\n",
              "    [theme=dark] .colab-df-convert {\n",
              "      background-color: #3B4455;\n",
              "      fill: #D2E3FC;\n",
              "    }\n",
              "\n",
              "    [theme=dark] .colab-df-convert:hover {\n",
              "      background-color: #434B5C;\n",
              "      box-shadow: 0px 1px 3px 1px rgba(0, 0, 0, 0.15);\n",
              "      filter: drop-shadow(0px 1px 2px rgba(0, 0, 0, 0.3));\n",
              "      fill: #FFFFFF;\n",
              "    }\n",
              "  </style>\n",
              "\n",
              "      <script>\n",
              "        const buttonEl =\n",
              "          document.querySelector('#df-c5f4d6e8-908b-4f2c-8eb5-e605aef082cf button.colab-df-convert');\n",
              "        buttonEl.style.display =\n",
              "          google.colab.kernel.accessAllowed ? 'block' : 'none';\n",
              "\n",
              "        async function convertToInteractive(key) {\n",
              "          const element = document.querySelector('#df-c5f4d6e8-908b-4f2c-8eb5-e605aef082cf');\n",
              "          const dataTable =\n",
              "            await google.colab.kernel.invokeFunction('convertToInteractive',\n",
              "                                                     [key], {});\n",
              "          if (!dataTable) return;\n",
              "\n",
              "          const docLinkHtml = 'Like what you see? Visit the ' +\n",
              "            '<a target=\"_blank\" href=https://colab.research.google.com/notebooks/data_table.ipynb>data table notebook</a>'\n",
              "            + ' to learn more about interactive tables.';\n",
              "          element.innerHTML = '';\n",
              "          dataTable['output_type'] = 'display_data';\n",
              "          await google.colab.output.renderOutput(dataTable, element);\n",
              "          const docLink = document.createElement('div');\n",
              "          docLink.innerHTML = docLinkHtml;\n",
              "          element.appendChild(docLink);\n",
              "        }\n",
              "      </script>\n",
              "    </div>\n",
              "  </div>\n",
              "  "
            ]
          },
          "metadata": {},
          "execution_count": 197
        }
      ]
    },
    {
      "cell_type": "code",
      "source": [
        "df.shape"
      ],
      "metadata": {
        "colab": {
          "base_uri": "https://localhost:8080/"
        },
        "id": "-WQ_J3wyb5wE",
        "outputId": "b255ef4b-df2d-4864-b04e-395ec78b9d54"
      },
      "execution_count": 198,
      "outputs": [
        {
          "output_type": "execute_result",
          "data": {
            "text/plain": [
              "(3855, 4)"
            ]
          },
          "metadata": {},
          "execution_count": 198
        }
      ]
    },
    {
      "cell_type": "code",
      "source": [
        "df.isnull().sum()"
      ],
      "metadata": {
        "colab": {
          "base_uri": "https://localhost:8080/"
        },
        "id": "vhRVOjOKjHY1",
        "outputId": "db9cab6d-719d-47cf-ad42-6dcb6aad44b7"
      },
      "execution_count": 199,
      "outputs": [
        {
          "output_type": "execute_result",
          "data": {
            "text/plain": [
              "RESULT_PUNTAJE      0\n",
              "PUNT_GLOBAL         0\n",
              "RESULT_DESEMPENO    0\n",
              "PERCENTIL_GLOBAL    0\n",
              "dtype: int64"
            ]
          },
          "metadata": {},
          "execution_count": 199
        }
      ]
    },
    {
      "cell_type": "code",
      "source": [
        "df.dtypes"
      ],
      "metadata": {
        "colab": {
          "base_uri": "https://localhost:8080/"
        },
        "id": "3n_Mkq2QoOsd",
        "outputId": "94ffa51e-8fc8-41ac-b527-dc16042810d8"
      },
      "execution_count": 200,
      "outputs": [
        {
          "output_type": "execute_result",
          "data": {
            "text/plain": [
              "RESULT_PUNTAJE      int64\n",
              "PUNT_GLOBAL         int64\n",
              "RESULT_DESEMPENO    int64\n",
              "PERCENTIL_GLOBAL    int64\n",
              "dtype: object"
            ]
          },
          "metadata": {},
          "execution_count": 200
        }
      ]
    },
    {
      "cell_type": "code",
      "source": [
        "indices = [26, 176, 392]\n",
        "muestras = pd.DataFrame(df.loc[indices], \n",
        "                       columns = df.keys()).reset_index(drop = True)\n",
        "data = df.drop(indices, axis = 0)\n",
        "data"
      ],
      "metadata": {
        "colab": {
          "base_uri": "https://localhost:8080/",
          "height": 424
        },
        "id": "Zy_qraJ2j6HV",
        "outputId": "de6190f3-274a-4043-feff-3c0e2b200693"
      },
      "execution_count": 201,
      "outputs": [
        {
          "output_type": "execute_result",
          "data": {
            "text/plain": [
              "      RESULT_PUNTAJE  PUNT_GLOBAL  RESULT_DESEMPENO  PERCENTIL_GLOBAL\n",
              "0                128          201                 2                99\n",
              "1                209          222                 4               100\n",
              "2                106           88                 1                 2\n",
              "3                 89          159                 1                71\n",
              "4                122          156                 1                67\n",
              "...              ...          ...               ...               ...\n",
              "3850             151          196                 2                98\n",
              "3851             162          192                 3                97\n",
              "3852               0          158                 1                70\n",
              "3853             110          117                 1                15\n",
              "3854             115          147                 1                54\n",
              "\n",
              "[3852 rows x 4 columns]"
            ],
            "text/html": [
              "\n",
              "  <div id=\"df-01d489db-448d-455e-a24d-5476df4a5072\">\n",
              "    <div class=\"colab-df-container\">\n",
              "      <div>\n",
              "<style scoped>\n",
              "    .dataframe tbody tr th:only-of-type {\n",
              "        vertical-align: middle;\n",
              "    }\n",
              "\n",
              "    .dataframe tbody tr th {\n",
              "        vertical-align: top;\n",
              "    }\n",
              "\n",
              "    .dataframe thead th {\n",
              "        text-align: right;\n",
              "    }\n",
              "</style>\n",
              "<table border=\"1\" class=\"dataframe\">\n",
              "  <thead>\n",
              "    <tr style=\"text-align: right;\">\n",
              "      <th></th>\n",
              "      <th>RESULT_PUNTAJE</th>\n",
              "      <th>PUNT_GLOBAL</th>\n",
              "      <th>RESULT_DESEMPENO</th>\n",
              "      <th>PERCENTIL_GLOBAL</th>\n",
              "    </tr>\n",
              "  </thead>\n",
              "  <tbody>\n",
              "    <tr>\n",
              "      <th>0</th>\n",
              "      <td>128</td>\n",
              "      <td>201</td>\n",
              "      <td>2</td>\n",
              "      <td>99</td>\n",
              "    </tr>\n",
              "    <tr>\n",
              "      <th>1</th>\n",
              "      <td>209</td>\n",
              "      <td>222</td>\n",
              "      <td>4</td>\n",
              "      <td>100</td>\n",
              "    </tr>\n",
              "    <tr>\n",
              "      <th>2</th>\n",
              "      <td>106</td>\n",
              "      <td>88</td>\n",
              "      <td>1</td>\n",
              "      <td>2</td>\n",
              "    </tr>\n",
              "    <tr>\n",
              "      <th>3</th>\n",
              "      <td>89</td>\n",
              "      <td>159</td>\n",
              "      <td>1</td>\n",
              "      <td>71</td>\n",
              "    </tr>\n",
              "    <tr>\n",
              "      <th>4</th>\n",
              "      <td>122</td>\n",
              "      <td>156</td>\n",
              "      <td>1</td>\n",
              "      <td>67</td>\n",
              "    </tr>\n",
              "    <tr>\n",
              "      <th>...</th>\n",
              "      <td>...</td>\n",
              "      <td>...</td>\n",
              "      <td>...</td>\n",
              "      <td>...</td>\n",
              "    </tr>\n",
              "    <tr>\n",
              "      <th>3850</th>\n",
              "      <td>151</td>\n",
              "      <td>196</td>\n",
              "      <td>2</td>\n",
              "      <td>98</td>\n",
              "    </tr>\n",
              "    <tr>\n",
              "      <th>3851</th>\n",
              "      <td>162</td>\n",
              "      <td>192</td>\n",
              "      <td>3</td>\n",
              "      <td>97</td>\n",
              "    </tr>\n",
              "    <tr>\n",
              "      <th>3852</th>\n",
              "      <td>0</td>\n",
              "      <td>158</td>\n",
              "      <td>1</td>\n",
              "      <td>70</td>\n",
              "    </tr>\n",
              "    <tr>\n",
              "      <th>3853</th>\n",
              "      <td>110</td>\n",
              "      <td>117</td>\n",
              "      <td>1</td>\n",
              "      <td>15</td>\n",
              "    </tr>\n",
              "    <tr>\n",
              "      <th>3854</th>\n",
              "      <td>115</td>\n",
              "      <td>147</td>\n",
              "      <td>1</td>\n",
              "      <td>54</td>\n",
              "    </tr>\n",
              "  </tbody>\n",
              "</table>\n",
              "<p>3852 rows × 4 columns</p>\n",
              "</div>\n",
              "      <button class=\"colab-df-convert\" onclick=\"convertToInteractive('df-01d489db-448d-455e-a24d-5476df4a5072')\"\n",
              "              title=\"Convert this dataframe to an interactive table.\"\n",
              "              style=\"display:none;\">\n",
              "        \n",
              "  <svg xmlns=\"http://www.w3.org/2000/svg\" height=\"24px\"viewBox=\"0 0 24 24\"\n",
              "       width=\"24px\">\n",
              "    <path d=\"M0 0h24v24H0V0z\" fill=\"none\"/>\n",
              "    <path d=\"M18.56 5.44l.94 2.06.94-2.06 2.06-.94-2.06-.94-.94-2.06-.94 2.06-2.06.94zm-11 1L8.5 8.5l.94-2.06 2.06-.94-2.06-.94L8.5 2.5l-.94 2.06-2.06.94zm10 10l.94 2.06.94-2.06 2.06-.94-2.06-.94-.94-2.06-.94 2.06-2.06.94z\"/><path d=\"M17.41 7.96l-1.37-1.37c-.4-.4-.92-.59-1.43-.59-.52 0-1.04.2-1.43.59L10.3 9.45l-7.72 7.72c-.78.78-.78 2.05 0 2.83L4 21.41c.39.39.9.59 1.41.59.51 0 1.02-.2 1.41-.59l7.78-7.78 2.81-2.81c.8-.78.8-2.07 0-2.86zM5.41 20L4 18.59l7.72-7.72 1.47 1.35L5.41 20z\"/>\n",
              "  </svg>\n",
              "      </button>\n",
              "      \n",
              "  <style>\n",
              "    .colab-df-container {\n",
              "      display:flex;\n",
              "      flex-wrap:wrap;\n",
              "      gap: 12px;\n",
              "    }\n",
              "\n",
              "    .colab-df-convert {\n",
              "      background-color: #E8F0FE;\n",
              "      border: none;\n",
              "      border-radius: 50%;\n",
              "      cursor: pointer;\n",
              "      display: none;\n",
              "      fill: #1967D2;\n",
              "      height: 32px;\n",
              "      padding: 0 0 0 0;\n",
              "      width: 32px;\n",
              "    }\n",
              "\n",
              "    .colab-df-convert:hover {\n",
              "      background-color: #E2EBFA;\n",
              "      box-shadow: 0px 1px 2px rgba(60, 64, 67, 0.3), 0px 1px 3px 1px rgba(60, 64, 67, 0.15);\n",
              "      fill: #174EA6;\n",
              "    }\n",
              "\n",
              "    [theme=dark] .colab-df-convert {\n",
              "      background-color: #3B4455;\n",
              "      fill: #D2E3FC;\n",
              "    }\n",
              "\n",
              "    [theme=dark] .colab-df-convert:hover {\n",
              "      background-color: #434B5C;\n",
              "      box-shadow: 0px 1px 3px 1px rgba(0, 0, 0, 0.15);\n",
              "      filter: drop-shadow(0px 1px 2px rgba(0, 0, 0, 0.3));\n",
              "      fill: #FFFFFF;\n",
              "    }\n",
              "  </style>\n",
              "\n",
              "      <script>\n",
              "        const buttonEl =\n",
              "          document.querySelector('#df-01d489db-448d-455e-a24d-5476df4a5072 button.colab-df-convert');\n",
              "        buttonEl.style.display =\n",
              "          google.colab.kernel.accessAllowed ? 'block' : 'none';\n",
              "\n",
              "        async function convertToInteractive(key) {\n",
              "          const element = document.querySelector('#df-01d489db-448d-455e-a24d-5476df4a5072');\n",
              "          const dataTable =\n",
              "            await google.colab.kernel.invokeFunction('convertToInteractive',\n",
              "                                                     [key], {});\n",
              "          if (!dataTable) return;\n",
              "\n",
              "          const docLinkHtml = 'Like what you see? Visit the ' +\n",
              "            '<a target=\"_blank\" href=https://colab.research.google.com/notebooks/data_table.ipynb>data table notebook</a>'\n",
              "            + ' to learn more about interactive tables.';\n",
              "          element.innerHTML = '';\n",
              "          dataTable['output_type'] = 'display_data';\n",
              "          await google.colab.output.renderOutput(dataTable, element);\n",
              "          const docLink = document.createElement('div');\n",
              "          docLink.innerHTML = docLinkHtml;\n",
              "          element.appendChild(docLink);\n",
              "        }\n",
              "      </script>\n",
              "    </div>\n",
              "  </div>\n",
              "  "
            ]
          },
          "metadata": {},
          "execution_count": 201
        }
      ]
    },
    {
      "cell_type": "code",
      "source": [
        "data = data.drop(['RESULT_DESEMPENO', 'PERCENTIL_GLOBAL'], axis = 1)\n",
        "muestras = muestras.drop(['RESULT_DESEMPENO', 'PERCENTIL_GLOBAL'], axis = 1)"
      ],
      "metadata": {
        "id": "rQA2DlAykBkd"
      },
      "execution_count": 202,
      "outputs": []
    },
    {
      "cell_type": "code",
      "source": [
        "from sklearn import preprocessing\n",
        "data_escalada = preprocessing.Normalizer().fit_transform(data)\n",
        "muestras_escalada = preprocessing.Normalizer().fit_transform(muestras)"
      ],
      "metadata": {
        "id": "miQPeNkdkijl"
      },
      "execution_count": 203,
      "outputs": []
    },
    {
      "cell_type": "code",
      "source": [
        "from sklearn.cluster import KMeans\n",
        "X = data_escalada.copy() "
      ],
      "metadata": {
        "id": "o_vsoEdWmAkF"
      },
      "execution_count": 204,
      "outputs": []
    },
    {
      "cell_type": "code",
      "source": [
        "inercia = [] \n",
        "for i in range(1, 20):\n",
        "    algoritmo = KMeans(n_clusters = i, init = 'k-means++', \n",
        "                       max_iter = 300, n_init = 10)\n",
        "    algoritmo.fit(X)\n",
        "    #Para cada K, se calcula la suma total del cuadrado dentro del clúster\n",
        "    inercia.append(algoritmo.inertia_)\n",
        "#Se traza la curva de la suma de errores cuadráticos \n",
        "plt.figure(figsize=[10,6])\n",
        "plt.title('Método del Codo')\n",
        "plt.xlabel('No. de clusters')\n",
        "plt.ylabel('Inercia')\n",
        "plt.plot(list(range(1, 20)), inercia, marker='o')\n",
        "plt.show()"
      ],
      "metadata": {
        "colab": {
          "base_uri": "https://localhost:8080/",
          "height": 404
        },
        "id": "0LmdDJCwmGH9",
        "outputId": "7a9adad7-b4a5-4330-de13-a9b659fef3ba"
      },
      "execution_count": 205,
      "outputs": [
        {
          "output_type": "display_data",
          "data": {
            "text/plain": [
              "<Figure size 720x432 with 1 Axes>"
            ],
            "image/png": "[encoded data removed]"
          },
          "metadata": {
            "needs_background": "light"
          }
        }
      ]
    },
    {
      "cell_type": "code",
      "source": [
        "algoritmo = KMeans(n_clusters = 6, init = 'k-means++', \n",
        "                   max_iter = 300, n_init = 10)"
      ],
      "metadata": {
        "id": "-hHu4zcOmQ-U"
      },
      "execution_count": 206,
      "outputs": []
    },
    {
      "cell_type": "code",
      "source": [
        "algoritmo.fit(X)"
      ],
      "metadata": {
        "colab": {
          "base_uri": "https://localhost:8080/"
        },
        "id": "S07HTpwJmTWs",
        "outputId": "6f55fa5d-b5a4-4e21-a348-9a65603be5e6"
      },
      "execution_count": 207,
      "outputs": [
        {
          "output_type": "execute_result",
          "data": {
            "text/plain": [
              "KMeans(n_clusters=6)"
            ]
          },
          "metadata": {},
          "execution_count": 207
        }
      ]
    },
    {
      "cell_type": "code",
      "source": [
        "centroides, etiquetas = algoritmo.cluster_centers_, algoritmo.labels_\n",
        "muestra_prediccion = algoritmo.predict(muestras_escalada)\n",
        "for i, pred in enumerate(muestra_prediccion):\n",
        "    print(\"Muestra\", i, \"se encuentra en el clúster:\", pred)"
      ],
      "metadata": {
        "colab": {
          "base_uri": "https://localhost:8080/"
        },
        "id": "sdCA_SaAmZy9",
        "outputId": "65fef4df-dc23-4d08-c4cd-0d81e7991c07"
      },
      "execution_count": 208,
      "outputs": [
        {
          "output_type": "stream",
          "name": "stdout",
          "text": [
            "Muestra 0 se encuentra en el clúster: 0\n",
            "Muestra 1 se encuentra en el clúster: 3\n",
            "Muestra 2 se encuentra en el clúster: 5\n"
          ]
        }
      ]
    },
    {
      "cell_type": "code",
      "source": [
        "### GRAFICAR LOS DATOS JUNTO A LOS RESULTADOS ###\n",
        "# Se aplica la reducción de dimensionalidad a los datos\n",
        "\n",
        "from sklearn.decomposition import PCA\n",
        "modelo_pca = PCA(n_components = 2)\n",
        "modelo_pca.fit(X)\n",
        "pca = modelo_pca.transform(X) \n",
        "\n",
        "#Se aplicar la reducción de dimsensionalidad a los centroides\n",
        "centroides_pca = modelo_pca.transform(centroides)\n",
        "\n",
        "# Se define los colores de cada clúster\n",
        "colores = ['blue', 'red', 'green', 'orange', 'gray', 'brown']\n",
        "\n",
        "#Se asignan los colores a cada clústeres\n",
        "colores_cluster = [colores[etiquetas[i]] for i in range(len(pca))]\n",
        "\n",
        "#Se grafica los componentes PCA\n",
        "plt.scatter(pca[:, 0], pca[:, 1], c = colores_cluster, \n",
        "            marker = 'o',alpha = 0.4)\n",
        "\n",
        "#Se grafican los centroides\n",
        "plt.scatter(centroides_pca[:, 0], centroides_pca[:, 1],\n",
        "            marker = 'x', s = 100, linewidths = 3, c = colores)\n",
        "\n",
        "#Se guadan los datos en una variable para que sea fácil escribir el código\n",
        "xvector = modelo_pca.components_[0] * max(pca[:,0])\n",
        "yvector = modelo_pca.components_[1] * max(pca[:,1])\n",
        "columnas = data.columns\n",
        "\n",
        "#Se grafican los nombres de los clústeres con la distancia del vector\n",
        "for i in range(len(columnas)):\n",
        "    #Se grafican los vectores\n",
        "    plt.arrow(0, 0, xvector[i], yvector[i], color = 'black', \n",
        "              width = 0.0005, head_width = 0.02, alpha = 0.75)\n",
        "    #Se colocan los nombres\n",
        "    plt.text(xvector[i], yvector[i], list(columnas)[i], color='black', \n",
        "             alpha=0.75)\n",
        "plt.show()"
      ],
      "metadata": {
        "colab": {
          "base_uri": "https://localhost:8080/",
          "height": 408
        },
        "id": "kcIqg5ssmhRV",
        "outputId": "8c0896cb-905a-44fb-ad9a-09db55a3075d"
      },
      "execution_count": 209,
      "outputs": [
        {
          "output_type": "display_data",
          "data": {
            "text/plain": [
              "<Figure size 432x288 with 1 Axes>"
            ],
            "image/png": "[encoded data removed]"
          },
          "metadata": {
            "needs_background": "light"
          }
        }
      ]
    },
    {
      "cell_type": "code",
      "source": [
        "from sklearn import datasets\n",
        "iris = datasets.load_iris()\n",
        "X = iris.data\n",
        "\n",
        "from sklearn.cluster import KMeans\n",
        "from sklearn.metrics import davies_bouldin_score\n",
        "\n",
        "kmeans = KMeans(n_clusters=3, random_state=1).fit(X)\n",
        "labels = kmeans.labels_\n",
        "davies_bouldin_score(X, labels)"
      ],
      "metadata": {
        "colab": {
          "base_uri": "https://localhost:8080/"
        },
        "id": "KEIWXJ89gcQs",
        "outputId": "84f0db79-a0fa-44bd-9596-b2413614bab3"
      },
      "execution_count": 210,
      "outputs": [
        {
          "output_type": "execute_result",
          "data": {
            "text/plain": [
              "0.6619715465007465"
            ]
          },
          "metadata": {},
          "execution_count": 210
        }
      ]
    },
    {
      "cell_type": "code",
      "source": [
        "fig,ax = plt.subplots(1,1, figsize=(10,6))\n",
        "markers = ['s','>','o']\n",
        "for i,j in zip(np.unique(y), markers):\n",
        "  ax.scatter(data_escalada.iloc[:,2][muestras_escalada==i], data_escalada.iloc[:,3][muestras_escalada==i], marker=j)\n",
        "\n",
        "ax.set_xlabel(data_escalada.columns[2], size=14)\n",
        "ax.set_ylabel(muestras_escalada.columns[3], size=14)\n",
        "ax.spines['top'].set_visible(False)\n",
        "ax.spines['right'].set_visible(False)\n",
        "plt.show()"
      ],
      "metadata": {
        "colab": {
          "base_uri": "https://localhost:8080/",
          "height": 609
        },
        "id": "84OK7N-mb6BU",
        "outputId": "508663c4-b090-4cd3-8cc6-df6b7c5238e4"
      },
      "execution_count": 212,
      "outputs": [
        {
          "output_type": "error",
          "ename": "NameError",
          "evalue": "ignored",
          "traceback": [
            "\u001b[0;31m---------------------------------------------------------------------------\u001b[0m",
            "\u001b[0;31mNameError\u001b[0m                                 Traceback (most recent call last)",
            "\u001b[0;32m<ipython-input-212-870d23e0b830>\u001b[0m in \u001b[0;36m<module>\u001b[0;34m()\u001b[0m\n\u001b[1;32m      1\u001b[0m \u001b[0mfig\u001b[0m\u001b[0;34m,\u001b[0m\u001b[0max\u001b[0m \u001b[0;34m=\u001b[0m \u001b[0mplt\u001b[0m\u001b[0;34m.\u001b[0m\u001b[0msubplots\u001b[0m\u001b[0;34m(\u001b[0m\u001b[0;36m1\u001b[0m\u001b[0;34m,\u001b[0m\u001b[0;36m1\u001b[0m\u001b[0;34m,\u001b[0m \u001b[0mfigsize\u001b[0m\u001b[0;34m=\u001b[0m\u001b[0;34m(\u001b[0m\u001b[0;36m10\u001b[0m\u001b[0;34m,\u001b[0m\u001b[0;36m6\u001b[0m\u001b[0;34m)\u001b[0m\u001b[0;34m)\u001b[0m\u001b[0;34m\u001b[0m\u001b[0;34m\u001b[0m\u001b[0m\n\u001b[1;32m      2\u001b[0m \u001b[0mmarkers\u001b[0m \u001b[0;34m=\u001b[0m \u001b[0;34m[\u001b[0m\u001b[0;34m's'\u001b[0m\u001b[0;34m,\u001b[0m\u001b[0;34m'>'\u001b[0m\u001b[0;34m,\u001b[0m\u001b[0;34m'o'\u001b[0m\u001b[0;34m]\u001b[0m\u001b[0;34m\u001b[0m\u001b[0;34m\u001b[0m\u001b[0m\n\u001b[0;32m----> 3\u001b[0;31m \u001b[0;32mfor\u001b[0m \u001b[0mi\u001b[0m\u001b[0;34m,\u001b[0m\u001b[0mj\u001b[0m \u001b[0;32min\u001b[0m \u001b[0mzip\u001b[0m\u001b[0;34m(\u001b[0m\u001b[0mnp\u001b[0m\u001b[0;34m.\u001b[0m\u001b[0munique\u001b[0m\u001b[0;34m(\u001b[0m\u001b[0my\u001b[0m\u001b[0;34m)\u001b[0m\u001b[0;34m,\u001b[0m \u001b[0mmarkers\u001b[0m\u001b[0;34m)\u001b[0m\u001b[0;34m:\u001b[0m\u001b[0;34m\u001b[0m\u001b[0;34m\u001b[0m\u001b[0m\n\u001b[0m\u001b[1;32m      4\u001b[0m   \u001b[0max\u001b[0m\u001b[0;34m.\u001b[0m\u001b[0mscatter\u001b[0m\u001b[0;34m(\u001b[0m\u001b[0mdata_escalada\u001b[0m\u001b[0;34m.\u001b[0m\u001b[0miloc\u001b[0m\u001b[0;34m[\u001b[0m\u001b[0;34m:\u001b[0m\u001b[0;34m,\u001b[0m\u001b[0;36m2\u001b[0m\u001b[0;34m]\u001b[0m\u001b[0;34m[\u001b[0m\u001b[0mmuestras_escalada\u001b[0m\u001b[0;34m==\u001b[0m\u001b[0mi\u001b[0m\u001b[0;34m]\u001b[0m\u001b[0;34m,\u001b[0m \u001b[0mdata_escalada\u001b[0m\u001b[0;34m.\u001b[0m\u001b[0miloc\u001b[0m\u001b[0;34m[\u001b[0m\u001b[0;34m:\u001b[0m\u001b[0;34m,\u001b[0m\u001b[0;36m3\u001b[0m\u001b[0;34m]\u001b[0m\u001b[0;34m[\u001b[0m\u001b[0mmuestras_escalada\u001b[0m\u001b[0;34m==\u001b[0m\u001b[0mi\u001b[0m\u001b[0;34m]\u001b[0m\u001b[0;34m,\u001b[0m \u001b[0mmarker\u001b[0m\u001b[0;34m=\u001b[0m\u001b[0mj\u001b[0m\u001b[0;34m)\u001b[0m\u001b[0;34m\u001b[0m\u001b[0;34m\u001b[0m\u001b[0m\n\u001b[1;32m      5\u001b[0m \u001b[0;34m\u001b[0m\u001b[0m\n",
            "\u001b[0;31mNameError\u001b[0m: name 'y' is not defined"
          ]
        },
        {
          "output_type": "display_data",
          "data": {
            "text/plain": [
              "<Figure size 720x432 with 1 Axes>"
            ],
            "image/png": "[encoded data removed]"
          },
          "metadata": {
            "needs_background": "light"
          }
        }
      ]
    },
    {
      "cell_type": "code",
      "source": [
        ""
      ],
      "metadata": {
        "id": "Bk6rA28KgMvc"
      },
      "execution_count": null,
      "outputs": []
    },
    {
      "cell_type": "code",
      "source": [
        ""
      ],
      "metadata": {
        "id": "rcg-YUrDgMlF"
      },
      "execution_count": null,
      "outputs": []
    },
    {
      "cell_type": "code",
      "source": [
        ""
      ],
      "metadata": {
        "id": "mNeJTgbYgMhk"
      },
      "execution_count": null,
      "outputs": []
    },
    {
      "cell_type": "code",
      "source": [
        ""
      ],
      "metadata": {
        "id": "g2LOccKogMe1"
      },
      "execution_count": null,
      "outputs": []
    },
    {
      "cell_type": "code",
      "source": [
        ""
      ],
      "metadata": {
        "id": "CdHzAOyRgMcd"
      },
      "execution_count": null,
      "outputs": []
    },
    {
      "cell_type": "code",
      "source": [
        ""
      ],
      "metadata": {
        "id": "vmeFitAhgMZ0"
      },
      "execution_count": null,
      "outputs": []
    },
    {
      "cell_type": "code",
      "source": [
        ""
      ],
      "metadata": {
        "id": "LhGJ4Qb0gMXk"
      },
      "execution_count": null,
      "outputs": []
    },
    {
      "cell_type": "code",
      "source": [
        ""
      ],
      "metadata": {
        "id": "dNJ9SmaMgMU0"
      },
      "execution_count": null,
      "outputs": []
    },
    {
      "cell_type": "code",
      "source": [
        ""
      ],
      "metadata": {
        "id": "zZUJWa4NgMR3"
      },
      "execution_count": null,
      "outputs": []
    },
    {
      "cell_type": "code",
      "source": [
        ""
      ],
      "metadata": {
        "id": "s8xYZCd3gMPk"
      },
      "execution_count": null,
      "outputs": []
    },
    {
      "cell_type": "code",
      "source": [
        ""
      ],
      "metadata": {
        "id": "rzwbC7bggMNM"
      },
      "execution_count": null,
      "outputs": []
    },
    {
      "cell_type": "code",
      "source": [
        ""
      ],
      "metadata": {
        "id": "ZX6Wzt_DgMKc"
      },
      "execution_count": null,
      "outputs": []
    },
    {
      "cell_type": "code",
      "source": [
        ""
      ],
      "metadata": {
        "id": "ypLegknlgMHs"
      },
      "execution_count": null,
      "outputs": []
    },
    {
      "cell_type": "code",
      "source": [
        ""
      ],
      "metadata": {
        "id": "SNCarrj_gMFE"
      },
      "execution_count": null,
      "outputs": []
    },
    {
      "cell_type": "code",
      "source": [
        ""
      ],
      "metadata": {
        "id": "T-lWdDHigMCF"
      },
      "execution_count": null,
      "outputs": []
    },
    {
      "cell_type": "code",
      "source": [
        "from sklearn import datasets\n",
        "iris = datasets.load_iris()\n",
        "X = iris.data\n",
        "from sklearn.cluster import KMeans\n",
        "from sklearn.metrics import davies_bouldin_score \n",
        "kmeans = KMeans(n_clusters=3, random_state=1).fit(X)\n",
        "labels = kmeans.labels_\n",
        "davies_bouldin_score(X, labels) 0.6619..."
      ],
      "metadata": {
        "id": "vmmzjAUpb6Uj"
      },
      "execution_count": null,
      "outputs": []
    }
  ]
}