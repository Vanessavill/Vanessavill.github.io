{
  "nbformat": 4,
  "nbformat_minor": 0,
  "metadata": {
    "colab": {
      "name": "Proyecto 6",
      "provenance": [],
      "collapsed_sections": [],
      "include_colab_link": true
    },
    "kernelspec": {
      "name": "python3",
      "display_name": "Python 3"
    },
    "language_info": {
      "name": "python"
    }
  },
  "cells": [
    {
      "cell_type": "markdown",
      "metadata": {
        "id": "view-in-github",
        "colab_type": "text"
      },
      "source": [
        "<a href=\"https://colab.research.google.com/github/Vanessavill/Vanessavill.github.io/blob/PROYECTOS-MACHINE-LEARNING/Proyecto_6.ipynb\" target=\"_parent\"><img src=\"https://colab.research.google.com/assets/colab-badge.svg\" alt=\"Open In Colab\"/></a>"
      ]
    },
    {
      "cell_type": "markdown",
      "source": [
        "#PROYECTO 6\n",
        "##Julian David Beltrán Mondragón, Lizeth Daniela Villamil Gil, Vanessa Alexandra Villareal Castro "
      ],
      "metadata": {
        "id": "4dsSZYHe-UcA"
      }
    },
    {
      "cell_type": "markdown",
      "source": [
        "$Para\\ este \\ trabajo\\ realizamos\\ una \\ tabulación \\ de\\ todo \\ los \\ productos\\ para\\ cada\\ año\\ de\\ los\\ 5\\ primeros\\ países\\ a\\ los\\ exporta\\ e\\ importa\\ Colombia\\ $"
      ],
      "metadata": {
        "id": "n0niJ9qMayKS"
      }
    },
    {
      "cell_type": "code",
      "source": [
        "!pip install squarify"
      ],
      "metadata": {
        "colab": {
          "base_uri": "https://localhost:8080/"
        },
        "id": "w7NlMf4ychQE",
        "outputId": "4787c5fb-9eb9-47dc-cd98-8a7c170edb30"
      },
      "execution_count": 44,
      "outputs": [
        {
          "output_type": "stream",
          "name": "stdout",
          "text": [
            "Requirement already satisfied: squarify in /usr/local/lib/python3.7/dist-packages (0.4.3)\n"
          ]
        }
      ]
    },
    {
      "cell_type": "code",
      "source": [
        "import numpy as np \n",
        "import pandas as pd \n",
        "\n",
        "import matplotlib.pyplot as plt \n",
        "import seaborn as sns \n",
        "import plotly.express as px \n",
        "import plotly\n",
        "import squarify as sq"
      ],
      "metadata": {
        "id": "L7NQkTR5-d2g"
      },
      "execution_count": 45,
      "outputs": []
    },
    {
      "cell_type": "code",
      "source": [
        "df= pd.read_csv('/content/Libro2 (1).csv', sep=';')\n",
        "df_1= pd.DataFrame(df)"
      ],
      "metadata": {
        "id": "2gyNSxmlWOkw"
      },
      "execution_count": 49,
      "outputs": []
    },
    {
      "cell_type": "code",
      "source": [
        "df"
      ],
      "metadata": {
        "id": "VSKYkyOevb5G",
        "colab": {
          "base_uri": "https://localhost:8080/",
          "height": 369
        },
        "outputId": "700240cd-a9e5-443e-ec31-e02ed56d30c3"
      },
      "execution_count": 50,
      "outputs": [
        {
          "output_type": "execute_result",
          "data": {
            "text/plain": [
              "                  Importers  Exported value in 2001  Exported value in 2002  \\\n",
              "0  United States of America                 5344533                 5328470   \n",
              "1                     China                   19907                   27825   \n",
              "2                    Panama                  265163                  214697   \n",
              "3                   Ecuador                  699929                  811559   \n",
              "4                    Brazil                  166704                  107823   \n",
              "\n",
              "   Exported value in 2003  Exported value in 2004  Exported value in 2005  \\\n",
              "0                 6160245                 7042201                 8851631   \n",
              "1                   82204                  137504                  236689   \n",
              "2                  170524                  216490                  264140   \n",
              "3                  778966                 1010665                 1324408   \n",
              "4                   92848                  141188                  141348   \n",
              "\n",
              "   Exported value in 2006  Exported value in 2007  Exported value in 2008  \\\n",
              "0                 9948230                10609167                14288833   \n",
              "1                  452420                  784758                  442953   \n",
              "2                  257484                  246322                  318980   \n",
              "3                 1237076                 1276036                 1499562   \n",
              "4                  190701                  471366                  648941   \n",
              "\n",
              "   Exported value in 2009  ...  Exported value in 2011  \\\n",
              "0                13123466  ...                21948535   \n",
              "1                  949726  ...                 1989061   \n",
              "2                  309589  ...                 1956816   \n",
              "3                 1257334  ...                 1908592   \n",
              "4                  576636  ...                 1370308   \n",
              "\n",
              "   Exported value in 2012  Exported value in 2013  Exported value in 2014  \\\n",
              "0                22216238                18692895                14470697   \n",
              "1                 3343081                 5102171                 5755135   \n",
              "2                 2916011                 3219265                 3615462   \n",
              "3                 1910498                 1974770                 1884349   \n",
              "4                 1290579                 1590629                 1622413   \n",
              "\n",
              "   Exported value in 2015  Exported value in 2016  Exported value in 2017  \\\n",
              "0                10052617                10215894                10975962   \n",
              "1                 2263725                 1127140                 2004460   \n",
              "2                 2394166                 1912114                 2699759   \n",
              "3                 1432593                 1199721                 1465057   \n",
              "4                 1189887                  994850                 1363480   \n",
              "\n",
              "   Exported value in 2018  Exported value in 2019  Exported value in 2020  \n",
              "0                11080579                12265471                 9442028  \n",
              "1                 3748187                 4564929                 2670041  \n",
              "2                 3597082                 2360822                 1510555  \n",
              "3                 1851967                 1954313                 1473607  \n",
              "4                 1561755                 1465743                 1274000  \n",
              "\n",
              "[5 rows x 21 columns]"
            ],
            "text/html": [
              "\n",
              "  <div id=\"df-8c68c5b0-f9f7-4909-93b5-328e062ef6de\">\n",
              "    <div class=\"colab-df-container\">\n",
              "      <div>\n",
              "<style scoped>\n",
              "    .dataframe tbody tr th:only-of-type {\n",
              "        vertical-align: middle;\n",
              "    }\n",
              "\n",
              "    .dataframe tbody tr th {\n",
              "        vertical-align: top;\n",
              "    }\n",
              "\n",
              "    .dataframe thead th {\n",
              "        text-align: right;\n",
              "    }\n",
              "</style>\n",
              "<table border=\"1\" class=\"dataframe\">\n",
              "  <thead>\n",
              "    <tr style=\"text-align: right;\">\n",
              "      <th></th>\n",
              "      <th>Importers</th>\n",
              "      <th>Exported value in 2001</th>\n",
              "      <th>Exported value in 2002</th>\n",
              "      <th>Exported value in 2003</th>\n",
              "      <th>Exported value in 2004</th>\n",
              "      <th>Exported value in 2005</th>\n",
              "      <th>Exported value in 2006</th>\n",
              "      <th>Exported value in 2007</th>\n",
              "      <th>Exported value in 2008</th>\n",
              "      <th>Exported value in 2009</th>\n",
              "      <th>...</th>\n",
              "      <th>Exported value in 2011</th>\n",
              "      <th>Exported value in 2012</th>\n",
              "      <th>Exported value in 2013</th>\n",
              "      <th>Exported value in 2014</th>\n",
              "      <th>Exported value in 2015</th>\n",
              "      <th>Exported value in 2016</th>\n",
              "      <th>Exported value in 2017</th>\n",
              "      <th>Exported value in 2018</th>\n",
              "      <th>Exported value in 2019</th>\n",
              "      <th>Exported value in 2020</th>\n",
              "    </tr>\n",
              "  </thead>\n",
              "  <tbody>\n",
              "    <tr>\n",
              "      <th>0</th>\n",
              "      <td>United States of America</td>\n",
              "      <td>5344533</td>\n",
              "      <td>5328470</td>\n",
              "      <td>6160245</td>\n",
              "      <td>7042201</td>\n",
              "      <td>8851631</td>\n",
              "      <td>9948230</td>\n",
              "      <td>10609167</td>\n",
              "      <td>14288833</td>\n",
              "      <td>13123466</td>\n",
              "      <td>...</td>\n",
              "      <td>21948535</td>\n",
              "      <td>22216238</td>\n",
              "      <td>18692895</td>\n",
              "      <td>14470697</td>\n",
              "      <td>10052617</td>\n",
              "      <td>10215894</td>\n",
              "      <td>10975962</td>\n",
              "      <td>11080579</td>\n",
              "      <td>12265471</td>\n",
              "      <td>9442028</td>\n",
              "    </tr>\n",
              "    <tr>\n",
              "      <th>1</th>\n",
              "      <td>China</td>\n",
              "      <td>19907</td>\n",
              "      <td>27825</td>\n",
              "      <td>82204</td>\n",
              "      <td>137504</td>\n",
              "      <td>236689</td>\n",
              "      <td>452420</td>\n",
              "      <td>784758</td>\n",
              "      <td>442953</td>\n",
              "      <td>949726</td>\n",
              "      <td>...</td>\n",
              "      <td>1989061</td>\n",
              "      <td>3343081</td>\n",
              "      <td>5102171</td>\n",
              "      <td>5755135</td>\n",
              "      <td>2263725</td>\n",
              "      <td>1127140</td>\n",
              "      <td>2004460</td>\n",
              "      <td>3748187</td>\n",
              "      <td>4564929</td>\n",
              "      <td>2670041</td>\n",
              "    </tr>\n",
              "    <tr>\n",
              "      <th>2</th>\n",
              "      <td>Panama</td>\n",
              "      <td>265163</td>\n",
              "      <td>214697</td>\n",
              "      <td>170524</td>\n",
              "      <td>216490</td>\n",
              "      <td>264140</td>\n",
              "      <td>257484</td>\n",
              "      <td>246322</td>\n",
              "      <td>318980</td>\n",
              "      <td>309589</td>\n",
              "      <td>...</td>\n",
              "      <td>1956816</td>\n",
              "      <td>2916011</td>\n",
              "      <td>3219265</td>\n",
              "      <td>3615462</td>\n",
              "      <td>2394166</td>\n",
              "      <td>1912114</td>\n",
              "      <td>2699759</td>\n",
              "      <td>3597082</td>\n",
              "      <td>2360822</td>\n",
              "      <td>1510555</td>\n",
              "    </tr>\n",
              "    <tr>\n",
              "      <th>3</th>\n",
              "      <td>Ecuador</td>\n",
              "      <td>699929</td>\n",
              "      <td>811559</td>\n",
              "      <td>778966</td>\n",
              "      <td>1010665</td>\n",
              "      <td>1324408</td>\n",
              "      <td>1237076</td>\n",
              "      <td>1276036</td>\n",
              "      <td>1499562</td>\n",
              "      <td>1257334</td>\n",
              "      <td>...</td>\n",
              "      <td>1908592</td>\n",
              "      <td>1910498</td>\n",
              "      <td>1974770</td>\n",
              "      <td>1884349</td>\n",
              "      <td>1432593</td>\n",
              "      <td>1199721</td>\n",
              "      <td>1465057</td>\n",
              "      <td>1851967</td>\n",
              "      <td>1954313</td>\n",
              "      <td>1473607</td>\n",
              "    </tr>\n",
              "    <tr>\n",
              "      <th>4</th>\n",
              "      <td>Brazil</td>\n",
              "      <td>166704</td>\n",
              "      <td>107823</td>\n",
              "      <td>92848</td>\n",
              "      <td>141188</td>\n",
              "      <td>141348</td>\n",
              "      <td>190701</td>\n",
              "      <td>471366</td>\n",
              "      <td>648941</td>\n",
              "      <td>576636</td>\n",
              "      <td>...</td>\n",
              "      <td>1370308</td>\n",
              "      <td>1290579</td>\n",
              "      <td>1590629</td>\n",
              "      <td>1622413</td>\n",
              "      <td>1189887</td>\n",
              "      <td>994850</td>\n",
              "      <td>1363480</td>\n",
              "      <td>1561755</td>\n",
              "      <td>1465743</td>\n",
              "      <td>1274000</td>\n",
              "    </tr>\n",
              "  </tbody>\n",
              "</table>\n",
              "<p>5 rows × 21 columns</p>\n",
              "</div>\n",
              "      <button class=\"colab-df-convert\" onclick=\"convertToInteractive('df-8c68c5b0-f9f7-4909-93b5-328e062ef6de')\"\n",
              "              title=\"Convert this dataframe to an interactive table.\"\n",
              "              style=\"display:none;\">\n",
              "        \n",
              "  <svg xmlns=\"http://www.w3.org/2000/svg\" height=\"24px\"viewBox=\"0 0 24 24\"\n",
              "       width=\"24px\">\n",
              "    <path d=\"M0 0h24v24H0V0z\" fill=\"none\"/>\n",
              "    <path d=\"M18.56 5.44l.94 2.06.94-2.06 2.06-.94-2.06-.94-.94-2.06-.94 2.06-2.06.94zm-11 1L8.5 8.5l.94-2.06 2.06-.94-2.06-.94L8.5 2.5l-.94 2.06-2.06.94zm10 10l.94 2.06.94-2.06 2.06-.94-2.06-.94-.94-2.06-.94 2.06-2.06.94z\"/><path d=\"M17.41 7.96l-1.37-1.37c-.4-.4-.92-.59-1.43-.59-.52 0-1.04.2-1.43.59L10.3 9.45l-7.72 7.72c-.78.78-.78 2.05 0 2.83L4 21.41c.39.39.9.59 1.41.59.51 0 1.02-.2 1.41-.59l7.78-7.78 2.81-2.81c.8-.78.8-2.07 0-2.86zM5.41 20L4 18.59l7.72-7.72 1.47 1.35L5.41 20z\"/>\n",
              "  </svg>\n",
              "      </button>\n",
              "      \n",
              "  <style>\n",
              "    .colab-df-container {\n",
              "      display:flex;\n",
              "      flex-wrap:wrap;\n",
              "      gap: 12px;\n",
              "    }\n",
              "\n",
              "    .colab-df-convert {\n",
              "      background-color: #E8F0FE;\n",
              "      border: none;\n",
              "      border-radius: 50%;\n",
              "      cursor: pointer;\n",
              "      display: none;\n",
              "      fill: #1967D2;\n",
              "      height: 32px;\n",
              "      padding: 0 0 0 0;\n",
              "      width: 32px;\n",
              "    }\n",
              "\n",
              "    .colab-df-convert:hover {\n",
              "      background-color: #E2EBFA;\n",
              "      box-shadow: 0px 1px 2px rgba(60, 64, 67, 0.3), 0px 1px 3px 1px rgba(60, 64, 67, 0.15);\n",
              "      fill: #174EA6;\n",
              "    }\n",
              "\n",
              "    [theme=dark] .colab-df-convert {\n",
              "      background-color: #3B4455;\n",
              "      fill: #D2E3FC;\n",
              "    }\n",
              "\n",
              "    [theme=dark] .colab-df-convert:hover {\n",
              "      background-color: #434B5C;\n",
              "      box-shadow: 0px 1px 3px 1px rgba(0, 0, 0, 0.15);\n",
              "      filter: drop-shadow(0px 1px 2px rgba(0, 0, 0, 0.3));\n",
              "      fill: #FFFFFF;\n",
              "    }\n",
              "  </style>\n",
              "\n",
              "      <script>\n",
              "        const buttonEl =\n",
              "          document.querySelector('#df-8c68c5b0-f9f7-4909-93b5-328e062ef6de button.colab-df-convert');\n",
              "        buttonEl.style.display =\n",
              "          google.colab.kernel.accessAllowed ? 'block' : 'none';\n",
              "\n",
              "        async function convertToInteractive(key) {\n",
              "          const element = document.querySelector('#df-8c68c5b0-f9f7-4909-93b5-328e062ef6de');\n",
              "          const dataTable =\n",
              "            await google.colab.kernel.invokeFunction('convertToInteractive',\n",
              "                                                     [key], {});\n",
              "          if (!dataTable) return;\n",
              "\n",
              "          const docLinkHtml = 'Like what you see? Visit the ' +\n",
              "            '<a target=\"_blank\" href=https://colab.research.google.com/notebooks/data_table.ipynb>data table notebook</a>'\n",
              "            + ' to learn more about interactive tables.';\n",
              "          element.innerHTML = '';\n",
              "          dataTable['output_type'] = 'display_data';\n",
              "          await google.colab.output.renderOutput(dataTable, element);\n",
              "          const docLink = document.createElement('div');\n",
              "          docLink.innerHTML = docLinkHtml;\n",
              "          element.appendChild(docLink);\n",
              "        }\n",
              "      </script>\n",
              "    </div>\n",
              "  </div>\n",
              "  "
            ]
          },
          "metadata": {},
          "execution_count": 50
        }
      ]
    },
    {
      "cell_type": "code",
      "source": [
        "df_1.info()"
      ],
      "metadata": {
        "colab": {
          "base_uri": "https://localhost:8080/"
        },
        "id": "nk3l2qYyrRDB",
        "outputId": "d42aa679-a69b-4c17-8be2-967332a90f75"
      },
      "execution_count": 51,
      "outputs": [
        {
          "output_type": "stream",
          "name": "stdout",
          "text": [
            "<class 'pandas.core.frame.DataFrame'>\n",
            "RangeIndex: 5 entries, 0 to 4\n",
            "Data columns (total 21 columns):\n",
            " #   Column                  Non-Null Count  Dtype \n",
            "---  ------                  --------------  ----- \n",
            " 0   Importers               5 non-null      object\n",
            " 1   Exported value in 2001  5 non-null      int64 \n",
            " 2   Exported value in 2002  5 non-null      int64 \n",
            " 3   Exported value in 2003  5 non-null      int64 \n",
            " 4   Exported value in 2004  5 non-null      int64 \n",
            " 5   Exported value in 2005  5 non-null      int64 \n",
            " 6   Exported value in 2006  5 non-null      int64 \n",
            " 7   Exported value in 2007  5 non-null      int64 \n",
            " 8   Exported value in 2008  5 non-null      int64 \n",
            " 9   Exported value in 2009  5 non-null      int64 \n",
            " 10  Exported value in 2010  5 non-null      int64 \n",
            " 11  Exported value in 2011  5 non-null      int64 \n",
            " 12  Exported value in 2012  5 non-null      int64 \n",
            " 13  Exported value in 2013  5 non-null      int64 \n",
            " 14  Exported value in 2014  5 non-null      int64 \n",
            " 15  Exported value in 2015  5 non-null      int64 \n",
            " 16  Exported value in 2016  5 non-null      int64 \n",
            " 17  Exported value in 2017  5 non-null      int64 \n",
            " 18  Exported value in 2018  5 non-null      int64 \n",
            " 19  Exported value in 2019  5 non-null      int64 \n",
            " 20  Exported value in 2020  5 non-null      int64 \n",
            "dtypes: int64(20), object(1)\n",
            "memory usage: 968.0+ bytes\n"
          ]
        }
      ]
    },
    {
      "cell_type": "code",
      "source": [
        "print(df_1.head())"
      ],
      "metadata": {
        "colab": {
          "base_uri": "https://localhost:8080/"
        },
        "id": "dDEmV4pCxt8F",
        "outputId": "775bb581-0644-4c5b-ab95-db5593ccdcac"
      },
      "execution_count": 52,
      "outputs": [
        {
          "output_type": "stream",
          "name": "stdout",
          "text": [
            "                  Importers  Exported value in 2001  Exported value in 2002  \\\n",
            "0  United States of America                 5344533                 5328470   \n",
            "1                     China                   19907                   27825   \n",
            "2                    Panama                  265163                  214697   \n",
            "3                   Ecuador                  699929                  811559   \n",
            "4                    Brazil                  166704                  107823   \n",
            "\n",
            "   Exported value in 2003  Exported value in 2004  Exported value in 2005  \\\n",
            "0                 6160245                 7042201                 8851631   \n",
            "1                   82204                  137504                  236689   \n",
            "2                  170524                  216490                  264140   \n",
            "3                  778966                 1010665                 1324408   \n",
            "4                   92848                  141188                  141348   \n",
            "\n",
            "   Exported value in 2006  Exported value in 2007  Exported value in 2008  \\\n",
            "0                 9948230                10609167                14288833   \n",
            "1                  452420                  784758                  442953   \n",
            "2                  257484                  246322                  318980   \n",
            "3                 1237076                 1276036                 1499562   \n",
            "4                  190701                  471366                  648941   \n",
            "\n",
            "   Exported value in 2009  ...  Exported value in 2011  \\\n",
            "0                13123466  ...                21948535   \n",
            "1                  949726  ...                 1989061   \n",
            "2                  309589  ...                 1956816   \n",
            "3                 1257334  ...                 1908592   \n",
            "4                  576636  ...                 1370308   \n",
            "\n",
            "   Exported value in 2012  Exported value in 2013  Exported value in 2014  \\\n",
            "0                22216238                18692895                14470697   \n",
            "1                 3343081                 5102171                 5755135   \n",
            "2                 2916011                 3219265                 3615462   \n",
            "3                 1910498                 1974770                 1884349   \n",
            "4                 1290579                 1590629                 1622413   \n",
            "\n",
            "   Exported value in 2015  Exported value in 2016  Exported value in 2017  \\\n",
            "0                10052617                10215894                10975962   \n",
            "1                 2263725                 1127140                 2004460   \n",
            "2                 2394166                 1912114                 2699759   \n",
            "3                 1432593                 1199721                 1465057   \n",
            "4                 1189887                  994850                 1363480   \n",
            "\n",
            "   Exported value in 2018  Exported value in 2019  Exported value in 2020  \n",
            "0                11080579                12265471                 9442028  \n",
            "1                 3748187                 4564929                 2670041  \n",
            "2                 3597082                 2360822                 1510555  \n",
            "3                 1851967                 1954313                 1473607  \n",
            "4                 1561755                 1465743                 1274000  \n",
            "\n",
            "[5 rows x 21 columns]\n"
          ]
        }
      ]
    },
    {
      "cell_type": "code",
      "source": [
        "df.columns"
      ],
      "metadata": {
        "colab": {
          "base_uri": "https://localhost:8080/"
        },
        "id": "rpBR5RRmLCU-",
        "outputId": "b0b2623f-dda3-4d8c-e330-055759b9692a"
      },
      "execution_count": 53,
      "outputs": [
        {
          "output_type": "execute_result",
          "data": {
            "text/plain": [
              "Index(['Importers', 'Exported value in 2001', 'Exported value in 2002',\n",
              "       'Exported value in 2003', 'Exported value in 2004',\n",
              "       'Exported value in 2005', 'Exported value in 2006',\n",
              "       'Exported value in 2007', 'Exported value in 2008',\n",
              "       'Exported value in 2009', 'Exported value in 2010',\n",
              "       'Exported value in 2011', 'Exported value in 2012',\n",
              "       'Exported value in 2013', 'Exported value in 2014',\n",
              "       'Exported value in 2015', 'Exported value in 2016',\n",
              "       'Exported value in 2017', 'Exported value in 2018',\n",
              "       'Exported value in 2019', 'Exported value in 2020'],\n",
              "      dtype='object')"
            ]
          },
          "metadata": {},
          "execution_count": 53
        }
      ]
    },
    {
      "cell_type": "code",
      "source": [
        "df.columns=['Importers','2001','2002','2003','2004','2005','2006','2007','2008','2009','2010','2011','2012','2013','2014','2015','2016','2017','2018','2019','2020']\n",
        "df.columns"
      ],
      "metadata": {
        "colab": {
          "base_uri": "https://localhost:8080/"
        },
        "id": "NCGec1cmMvsW",
        "outputId": "64e18456-f4f8-441a-ffe0-a08a9f4e8a0f"
      },
      "execution_count": 54,
      "outputs": [
        {
          "output_type": "execute_result",
          "data": {
            "text/plain": [
              "Index(['Importers', '2001', '2002', '2003', '2004', '2005', '2006', '2007',\n",
              "       '2008', '2009', '2010', '2011', '2012', '2013', '2014', '2015', '2016',\n",
              "       '2017', '2018', '2019', '2020'],\n",
              "      dtype='object')"
            ]
          },
          "metadata": {},
          "execution_count": 54
        }
      ]
    },
    {
      "cell_type": "code",
      "source": [
        "from google.colab import data_table\n",
        "data_table.DataTable(df_1)"
      ],
      "metadata": {
        "id": "HV7XJrfJgviw"
      },
      "execution_count": null,
      "outputs": []
    },
    {
      "cell_type": "code",
      "source": [
        "dff= df_1[['2001','2002','2003','2004','2005','2006','2007','2008','2009','2010','2011','2012','2013','2014','2015','2016','2017','2018','2019']] \n",
        "sns.heatmap(dff.corr(method='spearman'), annot=True) #La correlación que hay en cada año con respecto a las importaciones que recibe Colombia en cada año "
      ],
      "metadata": {
        "colab": {
          "base_uri": "https://localhost:8080/",
          "height": 302
        },
        "id": "MVho5IdD_mnW",
        "outputId": "9bcff851-a583-428f-e0b1-dce145781efa"
      },
      "execution_count": 56,
      "outputs": [
        {
          "output_type": "execute_result",
          "data": {
            "text/plain": [
              "<matplotlib.axes._subplots.AxesSubplot at 0x7fa26efe8f90>"
            ]
          },
          "metadata": {},
          "execution_count": 56
        },
        {
          "output_type": "display_data",
          "data": {
            "text/plain": [
              "<Figure size 432x288 with 2 Axes>"
            ],
            "image/png": "[encoded data removed]"
          },
          "metadata": {
            "needs_background": "light"
          }
        }
      ]
    },
    {
      "cell_type": "code",
      "source": [
        "fig, ax = plt.subplots(figsize=(14,8))\n",
        "sns.heatmap(dff, cmap='flare')"
      ],
      "metadata": {
        "colab": {
          "base_uri": "https://localhost:8080/",
          "height": 511
        },
        "id": "TbW71WxKYYqO",
        "outputId": "6b1e565c-0481-4b3b-fc11-ed4a10ea7578"
      },
      "execution_count": 57,
      "outputs": [
        {
          "output_type": "execute_result",
          "data": {
            "text/plain": [
              "<matplotlib.axes._subplots.AxesSubplot at 0x7fa26eec6b50>"
            ]
          },
          "metadata": {},
          "execution_count": 57
        },
        {
          "output_type": "display_data",
          "data": {
            "text/plain": [
              "<Figure size 1008x576 with 2 Axes>"
            ],
            "image/png": "[encoded data removed]"
          },
          "metadata": {
            "needs_background": "light"
          }
        }
      ]
    },
    {
      "cell_type": "code",
      "source": [
        "valores = df_1[['Importers']]\n",
        "print(valores)"
      ],
      "metadata": {
        "colab": {
          "base_uri": "https://localhost:8080/"
        },
        "id": "zPWwQ_uyxt5H",
        "outputId": "b1e81b4b-978c-43ff-df98-5c4a7ae5e967"
      },
      "execution_count": 58,
      "outputs": [
        {
          "output_type": "stream",
          "name": "stdout",
          "text": [
            "                  Importers\n",
            "0  United States of America\n",
            "1                     China\n",
            "2                    Panama\n",
            "3                   Ecuador\n",
            "4                    Brazil\n"
          ]
        }
      ]
    },
    {
      "cell_type": "code",
      "source": [
        "for i in range(2001, 2021):\n",
        "  fig, ax = plt.subplots(figsize=(12,8))\n",
        "  sizes = df_1[str(i)].iloc[0:20].values\n",
        "  labels = df_1[str(i)].iloc[0:20].index\n",
        "  colors = sns.color_palette('flare')\n",
        "  sq.plot(sizes=sizes, label=labels, text_kwargs=dict(color='black'))\n",
        "  plt.axis('off')\n",
        "  plt.title(i)\n",
        "  plt.show()\n",
        "  #Año a año como se refleja las importaciones de cada país hacía Colombia teninedo encuenta el enciso anterior valores = df_1[['Importers']]print(valores)"
      ],
      "metadata": {
        "id": "ZMxAWqDextuq",
        "colab": {
          "base_uri": "https://localhost:8080/",
          "height": 1000
        },
        "outputId": "0cbc488d-3ed2-440a-9e57-c339932f7878"
      },
      "execution_count": 59,
      "outputs": [
        {
          "output_type": "display_data",
          "data": {
            "text/plain": [
              "<Figure size 864x576 with 1 Axes>"
            ],
            "image/png": "[encoded data removed]"
          },
          "metadata": {
            "needs_background": "light"
          }
        },
        {
          "output_type": "display_data",
          "data": {
            "text/plain": [
              "<Figure size 864x576 with 1 Axes>"
            ],
            "image/png": "[encoded data removed]"
          },
          "metadata": {
            "needs_background": "light"
          }
        },
        {
          "output_type": "display_data",
          "data": {
            "text/plain": [
              "<Figure size 864x576 with 1 Axes>"
            ],
            "image/png": "[encoded data removed]"
          },
          "metadata": {
            "needs_background": "light"
          }
        },
        {
          "output_type": "display_data",
          "data": {
            "text/plain": [
              "<Figure size 864x576 with 1 Axes>"
            ],
            "image/png": "[encoded data removed]"
          },
          "metadata": {
            "needs_background": "light"
          }
        },
        {
          "output_type": "display_data",
          "data": {
            "text/plain": [
              "<Figure size 864x576 with 1 Axes>"
            ],
            "image/png": "[encoded data removed]"
          },
          "metadata": {
            "needs_background": "light"
          }
        },
        {
          "output_type": "display_data",
          "data": {
            "text/plain": [
              "<Figure size 864x576 with 1 Axes>"
            ],
            "image/png": "[encoded data removed]"
          },
          "metadata": {
            "needs_background": "light"
          }
        },
        {
          "output_type": "display_data",
          "data": {
            "text/plain": [
              "<Figure size 864x576 with 1 Axes>"
            ],
            "image/png": "[encoded data removed]"
          },
          "metadata": {
            "needs_background": "light"
          }
        },
        {
          "output_type": "display_data",
          "data": {
            "text/plain": [
              "<Figure size 864x576 with 1 Axes>"
            ],
            "image/png": "[encoded data removed]"
          },
          "metadata": {
            "needs_background": "light"
          }
        },
        {
          "output_type": "display_data",
          "data": {
            "text/plain": [
              "<Figure size 864x576 with 1 Axes>"
            ],
            "image/png": "[encoded data removed]"
          },
          "metadata": {
            "needs_background": "light"
          }
        },
        {
          "output_type": "display_data",
          "data": {
            "text/plain": [
              "<Figure size 864x576 with 1 Axes>"
            ],
            "image/png": "[encoded data removed]"
          },
          "metadata": {
            "needs_background": "light"
          }
        },
        {
          "output_type": "display_data",
          "data": {
            "text/plain": [
              "<Figure size 864x576 with 1 Axes>"
            ],
            "image/png": "[encoded data removed]"
          },
          "metadata": {
            "needs_background": "light"
          }
        },
        {
          "output_type": "display_data",
          "data": {
            "text/plain": [
              "<Figure size 864x576 with 1 Axes>"
            ],
            "image/png": "[encoded data removed]"
          },
          "metadata": {
            "needs_background": "light"
          }
        },
        {
          "output_type": "display_data",
          "data": {
            "text/plain": [
              "<Figure size 864x576 with 1 Axes>"
            ],
            "image/png": "[encoded data removed]"
          },
          "metadata": {
            "needs_background": "light"
          }
        },
        {
          "output_type": "display_data",
          "data": {
            "text/plain": [
              "<Figure size 864x576 with 1 Axes>"
            ],
            "image/png": "[encoded data removed]"
          },
          "metadata": {
            "needs_background": "light"
          }
        },
        {
          "output_type": "display_data",
          "data": {
            "text/plain": [
              "<Figure size 864x576 with 1 Axes>"
            ],
            "image/png": "[encoded data removed]"
          },
          "metadata": {
            "needs_background": "light"
          }
        },
        {
          "output_type": "display_data",
          "data": {
            "text/plain": [
              "<Figure size 864x576 with 1 Axes>"
            ],
            "image/png": "[encoded data removed]"
          },
          "metadata": {
            "needs_background": "light"
          }
        },
        {
          "output_type": "display_data",
          "data": {
            "text/plain": [
              "<Figure size 864x576 with 1 Axes>"
            ],
            "image/png": "[encoded data removed]"
          },
          "metadata": {
            "needs_background": "light"
          }
        },
        {
          "output_type": "display_data",
          "data": {
            "text/plain": [
              "<Figure size 864x576 with 1 Axes>"
            ],
            "image/png": "[encoded data removed]"
          },
          "metadata": {
            "needs_background": "light"
          }
        },
        {
          "output_type": "display_data",
          "data": {
            "text/plain": [
              "<Figure size 864x576 with 1 Axes>"
            ],
            "image/png": "[encoded data removed]"
          },
          "metadata": {
            "needs_background": "light"
          }
        },
        {
          "output_type": "display_data",
          "data": {
            "text/plain": [
              "<Figure size 864x576 with 1 Axes>"
            ],
            "image/png": "[encoded data removed]"
          },
          "metadata": {
            "needs_background": "light"
          }
        }
      ]
    },
    {
      "cell_type": "code",
      "source": [
        ""
      ],
      "metadata": {
        "id": "1wv9jY1OxtVt"
      },
      "execution_count": 59,
      "outputs": []
    },
    {
      "cell_type": "code",
      "source": [
        "df_2= pd.read_csv('/content/libro8 (1).csv', sep=';')\n",
        "df__2= pd.DataFrame(df_2)"
      ],
      "metadata": {
        "id": "PyYYjQqfk_p2"
      },
      "execution_count": 61,
      "outputs": []
    },
    {
      "cell_type": "code",
      "source": [
        "df_2"
      ],
      "metadata": {
        "colab": {
          "base_uri": "https://localhost:8080/",
          "height": 369
        },
        "id": "-FSQQ-QglLLN",
        "outputId": "c439dd26-cbe5-420f-b300-b4af12856b06"
      },
      "execution_count": 62,
      "outputs": [
        {
          "output_type": "execute_result",
          "data": {
            "text/plain": [
              "                  Exporters  Imported value in 2001  Imported value in 2002  \\\n",
              "0  United States of America                 4442775                 4051198   \n",
              "1                     China                  475405                  532847   \n",
              "2                    Mexico                  596168                  677990   \n",
              "3                    Brazil                  582060                  642840   \n",
              "4                   Germany                  560090                  508304   \n",
              "\n",
              "   Imported value in 2003  Imported value in 2004  Imported value in 2005  \\\n",
              "0                 4112710                 4806760                 6033241   \n",
              "1                  688673                 1244730                 1616821   \n",
              "2                  744375                  935642                 1757068   \n",
              "3                  769003                 1352172                 1383387   \n",
              "4                  611672                  686601                  773661   \n",
              "\n",
              "   Imported value in 2006  Imported value in 2007  Imported value in 2008  \\\n",
              "0                 6960605                 8631115                11583019   \n",
              "1                 2219273                 3326574                 4548798   \n",
              "2                 2290571                 3072565                 3125980   \n",
              "3                 1884885                 2393940                 2328416   \n",
              "4                  933215                 1204874                 1557401   \n",
              "\n",
              "   Imported value in 2009  ...  Imported value in 2011  \\\n",
              "0                 9505791  ...                13663338   \n",
              "1                 3715170  ...                 8176440   \n",
              "2                 2297888  ...                 6059027   \n",
              "3                 2146578  ...                 2740248   \n",
              "4                 1338394  ...                 2215150   \n",
              "\n",
              "   Imported value in 2012  Imported value in 2013  Imported value in 2014  \\\n",
              "0                14140116                16428423                18256281   \n",
              "1                 9564690                10362788                11790385   \n",
              "2                 6362176                 5495958                 5272632   \n",
              "3                 2795908                 2590480                 2465559   \n",
              "4                 2239577                 2206909                 2530978   \n",
              "\n",
              "   Imported value in 2015  Imported value in 2016  Imported value in 2017  \\\n",
              "0                15583375                11946833                12096143   \n",
              "1                10032489                 8631421                 8754463   \n",
              "2                 3852940                 3410737                 3436895   \n",
              "3                 2084310                 2117351                 2286013   \n",
              "4                 2267454                 1707682                 1873998   \n",
              "\n",
              "   Imported value in 2018  Imported value in 2019  Imported value in 2020  \n",
              "0                13075918                12832603                10634174  \n",
              "1                10544729                10483257                10398882  \n",
              "2                 3947394                 3698549                 2925827  \n",
              "3                 2828205                 3033232                 2435489  \n",
              "4                 2173253                 2094922                 1643891  \n",
              "\n",
              "[5 rows x 21 columns]"
            ],
            "text/html": [
              "\n",
              "  <div id=\"df-24a05117-9dfb-407c-b09e-07925adac9d8\">\n",
              "    <div class=\"colab-df-container\">\n",
              "      <div>\n",
              "<style scoped>\n",
              "    .dataframe tbody tr th:only-of-type {\n",
              "        vertical-align: middle;\n",
              "    }\n",
              "\n",
              "    .dataframe tbody tr th {\n",
              "        vertical-align: top;\n",
              "    }\n",
              "\n",
              "    .dataframe thead th {\n",
              "        text-align: right;\n",
              "    }\n",
              "</style>\n",
              "<table border=\"1\" class=\"dataframe\">\n",
              "  <thead>\n",
              "    <tr style=\"text-align: right;\">\n",
              "      <th></th>\n",
              "      <th>Exporters</th>\n",
              "      <th>Imported value in 2001</th>\n",
              "      <th>Imported value in 2002</th>\n",
              "      <th>Imported value in 2003</th>\n",
              "      <th>Imported value in 2004</th>\n",
              "      <th>Imported value in 2005</th>\n",
              "      <th>Imported value in 2006</th>\n",
              "      <th>Imported value in 2007</th>\n",
              "      <th>Imported value in 2008</th>\n",
              "      <th>Imported value in 2009</th>\n",
              "      <th>...</th>\n",
              "      <th>Imported value in 2011</th>\n",
              "      <th>Imported value in 2012</th>\n",
              "      <th>Imported value in 2013</th>\n",
              "      <th>Imported value in 2014</th>\n",
              "      <th>Imported value in 2015</th>\n",
              "      <th>Imported value in 2016</th>\n",
              "      <th>Imported value in 2017</th>\n",
              "      <th>Imported value in 2018</th>\n",
              "      <th>Imported value in 2019</th>\n",
              "      <th>Imported value in 2020</th>\n",
              "    </tr>\n",
              "  </thead>\n",
              "  <tbody>\n",
              "    <tr>\n",
              "      <th>0</th>\n",
              "      <td>United States of America</td>\n",
              "      <td>4442775</td>\n",
              "      <td>4051198</td>\n",
              "      <td>4112710</td>\n",
              "      <td>4806760</td>\n",
              "      <td>6033241</td>\n",
              "      <td>6960605</td>\n",
              "      <td>8631115</td>\n",
              "      <td>11583019</td>\n",
              "      <td>9505791</td>\n",
              "      <td>...</td>\n",
              "      <td>13663338</td>\n",
              "      <td>14140116</td>\n",
              "      <td>16428423</td>\n",
              "      <td>18256281</td>\n",
              "      <td>15583375</td>\n",
              "      <td>11946833</td>\n",
              "      <td>12096143</td>\n",
              "      <td>13075918</td>\n",
              "      <td>12832603</td>\n",
              "      <td>10634174</td>\n",
              "    </tr>\n",
              "    <tr>\n",
              "      <th>1</th>\n",
              "      <td>China</td>\n",
              "      <td>475405</td>\n",
              "      <td>532847</td>\n",
              "      <td>688673</td>\n",
              "      <td>1244730</td>\n",
              "      <td>1616821</td>\n",
              "      <td>2219273</td>\n",
              "      <td>3326574</td>\n",
              "      <td>4548798</td>\n",
              "      <td>3715170</td>\n",
              "      <td>...</td>\n",
              "      <td>8176440</td>\n",
              "      <td>9564690</td>\n",
              "      <td>10362788</td>\n",
              "      <td>11790385</td>\n",
              "      <td>10032489</td>\n",
              "      <td>8631421</td>\n",
              "      <td>8754463</td>\n",
              "      <td>10544729</td>\n",
              "      <td>10483257</td>\n",
              "      <td>10398882</td>\n",
              "    </tr>\n",
              "    <tr>\n",
              "      <th>2</th>\n",
              "      <td>Mexico</td>\n",
              "      <td>596168</td>\n",
              "      <td>677990</td>\n",
              "      <td>744375</td>\n",
              "      <td>935642</td>\n",
              "      <td>1757068</td>\n",
              "      <td>2290571</td>\n",
              "      <td>3072565</td>\n",
              "      <td>3125980</td>\n",
              "      <td>2297888</td>\n",
              "      <td>...</td>\n",
              "      <td>6059027</td>\n",
              "      <td>6362176</td>\n",
              "      <td>5495958</td>\n",
              "      <td>5272632</td>\n",
              "      <td>3852940</td>\n",
              "      <td>3410737</td>\n",
              "      <td>3436895</td>\n",
              "      <td>3947394</td>\n",
              "      <td>3698549</td>\n",
              "      <td>2925827</td>\n",
              "    </tr>\n",
              "    <tr>\n",
              "      <th>3</th>\n",
              "      <td>Brazil</td>\n",
              "      <td>582060</td>\n",
              "      <td>642840</td>\n",
              "      <td>769003</td>\n",
              "      <td>1352172</td>\n",
              "      <td>1383387</td>\n",
              "      <td>1884885</td>\n",
              "      <td>2393940</td>\n",
              "      <td>2328416</td>\n",
              "      <td>2146578</td>\n",
              "      <td>...</td>\n",
              "      <td>2740248</td>\n",
              "      <td>2795908</td>\n",
              "      <td>2590480</td>\n",
              "      <td>2465559</td>\n",
              "      <td>2084310</td>\n",
              "      <td>2117351</td>\n",
              "      <td>2286013</td>\n",
              "      <td>2828205</td>\n",
              "      <td>3033232</td>\n",
              "      <td>2435489</td>\n",
              "    </tr>\n",
              "    <tr>\n",
              "      <th>4</th>\n",
              "      <td>Germany</td>\n",
              "      <td>560090</td>\n",
              "      <td>508304</td>\n",
              "      <td>611672</td>\n",
              "      <td>686601</td>\n",
              "      <td>773661</td>\n",
              "      <td>933215</td>\n",
              "      <td>1204874</td>\n",
              "      <td>1557401</td>\n",
              "      <td>1338394</td>\n",
              "      <td>...</td>\n",
              "      <td>2215150</td>\n",
              "      <td>2239577</td>\n",
              "      <td>2206909</td>\n",
              "      <td>2530978</td>\n",
              "      <td>2267454</td>\n",
              "      <td>1707682</td>\n",
              "      <td>1873998</td>\n",
              "      <td>2173253</td>\n",
              "      <td>2094922</td>\n",
              "      <td>1643891</td>\n",
              "    </tr>\n",
              "  </tbody>\n",
              "</table>\n",
              "<p>5 rows × 21 columns</p>\n",
              "</div>\n",
              "      <button class=\"colab-df-convert\" onclick=\"convertToInteractive('df-24a05117-9dfb-407c-b09e-07925adac9d8')\"\n",
              "              title=\"Convert this dataframe to an interactive table.\"\n",
              "              style=\"display:none;\">\n",
              "        \n",
              "  <svg xmlns=\"http://www.w3.org/2000/svg\" height=\"24px\"viewBox=\"0 0 24 24\"\n",
              "       width=\"24px\">\n",
              "    <path d=\"M0 0h24v24H0V0z\" fill=\"none\"/>\n",
              "    <path d=\"M18.56 5.44l.94 2.06.94-2.06 2.06-.94-2.06-.94-.94-2.06-.94 2.06-2.06.94zm-11 1L8.5 8.5l.94-2.06 2.06-.94-2.06-.94L8.5 2.5l-.94 2.06-2.06.94zm10 10l.94 2.06.94-2.06 2.06-.94-2.06-.94-.94-2.06-.94 2.06-2.06.94z\"/><path d=\"M17.41 7.96l-1.37-1.37c-.4-.4-.92-.59-1.43-.59-.52 0-1.04.2-1.43.59L10.3 9.45l-7.72 7.72c-.78.78-.78 2.05 0 2.83L4 21.41c.39.39.9.59 1.41.59.51 0 1.02-.2 1.41-.59l7.78-7.78 2.81-2.81c.8-.78.8-2.07 0-2.86zM5.41 20L4 18.59l7.72-7.72 1.47 1.35L5.41 20z\"/>\n",
              "  </svg>\n",
              "      </button>\n",
              "      \n",
              "  <style>\n",
              "    .colab-df-container {\n",
              "      display:flex;\n",
              "      flex-wrap:wrap;\n",
              "      gap: 12px;\n",
              "    }\n",
              "\n",
              "    .colab-df-convert {\n",
              "      background-color: #E8F0FE;\n",
              "      border: none;\n",
              "      border-radius: 50%;\n",
              "      cursor: pointer;\n",
              "      display: none;\n",
              "      fill: #1967D2;\n",
              "      height: 32px;\n",
              "      padding: 0 0 0 0;\n",
              "      width: 32px;\n",
              "    }\n",
              "\n",
              "    .colab-df-convert:hover {\n",
              "      background-color: #E2EBFA;\n",
              "      box-shadow: 0px 1px 2px rgba(60, 64, 67, 0.3), 0px 1px 3px 1px rgba(60, 64, 67, 0.15);\n",
              "      fill: #174EA6;\n",
              "    }\n",
              "\n",
              "    [theme=dark] .colab-df-convert {\n",
              "      background-color: #3B4455;\n",
              "      fill: #D2E3FC;\n",
              "    }\n",
              "\n",
              "    [theme=dark] .colab-df-convert:hover {\n",
              "      background-color: #434B5C;\n",
              "      box-shadow: 0px 1px 3px 1px rgba(0, 0, 0, 0.15);\n",
              "      filter: drop-shadow(0px 1px 2px rgba(0, 0, 0, 0.3));\n",
              "      fill: #FFFFFF;\n",
              "    }\n",
              "  </style>\n",
              "\n",
              "      <script>\n",
              "        const buttonEl =\n",
              "          document.querySelector('#df-24a05117-9dfb-407c-b09e-07925adac9d8 button.colab-df-convert');\n",
              "        buttonEl.style.display =\n",
              "          google.colab.kernel.accessAllowed ? 'block' : 'none';\n",
              "\n",
              "        async function convertToInteractive(key) {\n",
              "          const element = document.querySelector('#df-24a05117-9dfb-407c-b09e-07925adac9d8');\n",
              "          const dataTable =\n",
              "            await google.colab.kernel.invokeFunction('convertToInteractive',\n",
              "                                                     [key], {});\n",
              "          if (!dataTable) return;\n",
              "\n",
              "          const docLinkHtml = 'Like what you see? Visit the ' +\n",
              "            '<a target=\"_blank\" href=https://colab.research.google.com/notebooks/data_table.ipynb>data table notebook</a>'\n",
              "            + ' to learn more about interactive tables.';\n",
              "          element.innerHTML = '';\n",
              "          dataTable['output_type'] = 'display_data';\n",
              "          await google.colab.output.renderOutput(dataTable, element);\n",
              "          const docLink = document.createElement('div');\n",
              "          docLink.innerHTML = docLinkHtml;\n",
              "          element.appendChild(docLink);\n",
              "        }\n",
              "      </script>\n",
              "    </div>\n",
              "  </div>\n",
              "  "
            ]
          },
          "metadata": {},
          "execution_count": 62
        }
      ]
    },
    {
      "cell_type": "code",
      "source": [
        "df_2.info()"
      ],
      "metadata": {
        "id": "qmqS9_VU8MZv",
        "colab": {
          "base_uri": "https://localhost:8080/"
        },
        "outputId": "03a43c44-d71e-48d9-9c22-a18bde3f030e"
      },
      "execution_count": 63,
      "outputs": [
        {
          "output_type": "stream",
          "name": "stdout",
          "text": [
            "<class 'pandas.core.frame.DataFrame'>\n",
            "RangeIndex: 5 entries, 0 to 4\n",
            "Data columns (total 21 columns):\n",
            " #   Column                  Non-Null Count  Dtype \n",
            "---  ------                  --------------  ----- \n",
            " 0   Exporters               5 non-null      object\n",
            " 1   Imported value in 2001  5 non-null      int64 \n",
            " 2   Imported value in 2002  5 non-null      int64 \n",
            " 3   Imported value in 2003  5 non-null      int64 \n",
            " 4   Imported value in 2004  5 non-null      int64 \n",
            " 5   Imported value in 2005  5 non-null      int64 \n",
            " 6   Imported value in 2006  5 non-null      int64 \n",
            " 7   Imported value in 2007  5 non-null      int64 \n",
            " 8   Imported value in 2008  5 non-null      int64 \n",
            " 9   Imported value in 2009  5 non-null      int64 \n",
            " 10  Imported value in 2010  5 non-null      int64 \n",
            " 11  Imported value in 2011  5 non-null      int64 \n",
            " 12  Imported value in 2012  5 non-null      int64 \n",
            " 13  Imported value in 2013  5 non-null      int64 \n",
            " 14  Imported value in 2014  5 non-null      int64 \n",
            " 15  Imported value in 2015  5 non-null      int64 \n",
            " 16  Imported value in 2016  5 non-null      int64 \n",
            " 17  Imported value in 2017  5 non-null      int64 \n",
            " 18  Imported value in 2018  5 non-null      int64 \n",
            " 19  Imported value in 2019  5 non-null      int64 \n",
            " 20  Imported value in 2020  5 non-null      int64 \n",
            "dtypes: int64(20), object(1)\n",
            "memory usage: 968.0+ bytes\n"
          ]
        }
      ]
    },
    {
      "cell_type": "code",
      "source": [
        "print(df_2.head())"
      ],
      "metadata": {
        "colab": {
          "base_uri": "https://localhost:8080/"
        },
        "id": "nKWYRzp8amqX",
        "outputId": "773ff245-3449-495c-c210-3b6aa91545f9"
      },
      "execution_count": 64,
      "outputs": [
        {
          "output_type": "stream",
          "name": "stdout",
          "text": [
            "                  Exporters  Imported value in 2001  Imported value in 2002  \\\n",
            "0  United States of America                 4442775                 4051198   \n",
            "1                     China                  475405                  532847   \n",
            "2                    Mexico                  596168                  677990   \n",
            "3                    Brazil                  582060                  642840   \n",
            "4                   Germany                  560090                  508304   \n",
            "\n",
            "   Imported value in 2003  Imported value in 2004  Imported value in 2005  \\\n",
            "0                 4112710                 4806760                 6033241   \n",
            "1                  688673                 1244730                 1616821   \n",
            "2                  744375                  935642                 1757068   \n",
            "3                  769003                 1352172                 1383387   \n",
            "4                  611672                  686601                  773661   \n",
            "\n",
            "   Imported value in 2006  Imported value in 2007  Imported value in 2008  \\\n",
            "0                 6960605                 8631115                11583019   \n",
            "1                 2219273                 3326574                 4548798   \n",
            "2                 2290571                 3072565                 3125980   \n",
            "3                 1884885                 2393940                 2328416   \n",
            "4                  933215                 1204874                 1557401   \n",
            "\n",
            "   Imported value in 2009  ...  Imported value in 2011  \\\n",
            "0                 9505791  ...                13663338   \n",
            "1                 3715170  ...                 8176440   \n",
            "2                 2297888  ...                 6059027   \n",
            "3                 2146578  ...                 2740248   \n",
            "4                 1338394  ...                 2215150   \n",
            "\n",
            "   Imported value in 2012  Imported value in 2013  Imported value in 2014  \\\n",
            "0                14140116                16428423                18256281   \n",
            "1                 9564690                10362788                11790385   \n",
            "2                 6362176                 5495958                 5272632   \n",
            "3                 2795908                 2590480                 2465559   \n",
            "4                 2239577                 2206909                 2530978   \n",
            "\n",
            "   Imported value in 2015  Imported value in 2016  Imported value in 2017  \\\n",
            "0                15583375                11946833                12096143   \n",
            "1                10032489                 8631421                 8754463   \n",
            "2                 3852940                 3410737                 3436895   \n",
            "3                 2084310                 2117351                 2286013   \n",
            "4                 2267454                 1707682                 1873998   \n",
            "\n",
            "   Imported value in 2018  Imported value in 2019  Imported value in 2020  \n",
            "0                13075918                12832603                10634174  \n",
            "1                10544729                10483257                10398882  \n",
            "2                 3947394                 3698549                 2925827  \n",
            "3                 2828205                 3033232                 2435489  \n",
            "4                 2173253                 2094922                 1643891  \n",
            "\n",
            "[5 rows x 21 columns]\n"
          ]
        }
      ]
    },
    {
      "cell_type": "code",
      "source": [
        "from google.colab import data_table\n",
        "data_table.DataTable(df_2)"
      ],
      "metadata": {
        "id": "gmwTRWjnbApY"
      },
      "execution_count": null,
      "outputs": []
    },
    {
      "cell_type": "code",
      "source": [
        "df_2.columns"
      ],
      "metadata": {
        "colab": {
          "base_uri": "https://localhost:8080/"
        },
        "id": "GKvMegybdqg0",
        "outputId": "bc24772d-b21f-4e19-85bb-f6bda8c93ca7"
      },
      "execution_count": 75,
      "outputs": [
        {
          "output_type": "execute_result",
          "data": {
            "text/plain": [
              "Index(['Exporters', '2001', '2002', '2003', '2004', '2005', '2006', '2007',\n",
              "       '2008', '2009', '2010', '2011', '2012', '2013', '2014', '2015', '2016',\n",
              "       '2017', '2018', '2019', '2020'],\n",
              "      dtype='object')"
            ]
          },
          "metadata": {},
          "execution_count": 75
        }
      ]
    },
    {
      "cell_type": "code",
      "source": [
        "df_2.columns=['Exporters','2001','2002','2003','2004','2005','2006','2007','2008','2009','2010','2011','2012','2013','2014','2015','2016','2017','2018','2019','2020']\n",
        "df_2.columns"
      ],
      "metadata": {
        "colab": {
          "base_uri": "https://localhost:8080/"
        },
        "id": "uZ9_jhgWdtYo",
        "outputId": "dafc7c32-c167-4c6f-a2a6-7528ae94ea2a"
      },
      "execution_count": 76,
      "outputs": [
        {
          "output_type": "execute_result",
          "data": {
            "text/plain": [
              "Index(['Exporters', '2001', '2002', '2003', '2004', '2005', '2006', '2007',\n",
              "       '2008', '2009', '2010', '2011', '2012', '2013', '2014', '2015', '2016',\n",
              "       '2017', '2018', '2019', '2020'],\n",
              "      dtype='object')"
            ]
          },
          "metadata": {},
          "execution_count": 76
        }
      ]
    },
    {
      "cell_type": "code",
      "source": [
        "dff_2= df_2[['2001','2002','2003','2004','2005','2006','2007','2008','2009','2010','2011','2012','2013','2014','2015','2016','2017','2018','2019']] \n",
        "sns.heatmap(dff.corr(method='spearman'), annot=True) #La correlación que hay en cada año con respecto a las exportaciones que ofrece Colombia en cada año "
      ],
      "metadata": {
        "colab": {
          "base_uri": "https://localhost:8080/",
          "height": 302
        },
        "id": "XzyKpRExe20Z",
        "outputId": "31e48c57-03c9-4bee-ac97-221b90334ff7"
      },
      "execution_count": 74,
      "outputs": [
        {
          "output_type": "execute_result",
          "data": {
            "text/plain": [
              "<matplotlib.axes._subplots.AxesSubplot at 0x7fa26f20dc90>"
            ]
          },
          "metadata": {},
          "execution_count": 74
        },
        {
          "output_type": "display_data",
          "data": {
            "text/plain": [
              "<Figure size 432x288 with 2 Axes>"
            ],
            "image/png": "[encoded data removed]"
          },
          "metadata": {
            "needs_background": "light"
          }
        }
      ]
    },
    {
      "cell_type": "code",
      "source": [
        "fig, ax = plt.subplots(figsize=(14,8))\n",
        "sns.heatmap(dff_2, cmap='flare')"
      ],
      "metadata": {
        "colab": {
          "base_uri": "https://localhost:8080/",
          "height": 511
        },
        "id": "KmHMF1oxfnA9",
        "outputId": "c2a2d467-3849-494f-8320-96fafd32a252"
      },
      "execution_count": 70,
      "outputs": [
        {
          "output_type": "execute_result",
          "data": {
            "text/plain": [
              "<matplotlib.axes._subplots.AxesSubplot at 0x7fa26ec14610>"
            ]
          },
          "metadata": {},
          "execution_count": 70
        },
        {
          "output_type": "display_data",
          "data": {
            "text/plain": [
              "<Figure size 1008x576 with 2 Axes>"
            ],
            "image/png": "[encoded data removed]"
          },
          "metadata": {
            "needs_background": "light"
          }
        }
      ]
    },
    {
      "cell_type": "code",
      "source": [
        "valores = df_2[['Exporters']]\n",
        "print(valores)"
      ],
      "metadata": {
        "colab": {
          "base_uri": "https://localhost:8080/"
        },
        "id": "fHjhxfPmZZew",
        "outputId": "f0cc7538-8074-4f83-faab-05f18c6c189a"
      },
      "execution_count": 72,
      "outputs": [
        {
          "output_type": "stream",
          "name": "stdout",
          "text": [
            "                  Exporters\n",
            "0  United States of America\n",
            "1                     China\n",
            "2                    Mexico\n",
            "3                    Brazil\n",
            "4                   Germany\n"
          ]
        }
      ]
    },
    {
      "cell_type": "code",
      "source": [
        "for i in range(2001, 2021):\n",
        "  fig, ax = plt.subplots(figsize=(12,8))\n",
        "  sizes = df_2[str(i)].iloc[0:20].values\n",
        "  labels = df_2[str(i)].iloc[0:20].index\n",
        "  colors = sns.color_palette('flare')\n",
        "  sq.plot(sizes=sizes, label=labels, text_kwargs=dict(color='black'))\n",
        "  plt.axis('off')\n",
        "  plt.title(i)\n",
        "  plt.show()\n",
        "  #Año a año como se refleja las exportaciones de Colombia hacía United States of America, China, Mexico, Brazil y Germany teninedo encuenta el enciso anterior valores = df_2[['Exporters']]print(valores)"
      ],
      "metadata": {
        "colab": {
          "base_uri": "https://localhost:8080/",
          "height": 1000
        },
        "id": "DACpwZHPQGr-",
        "outputId": "1008e20a-3e48-45d6-fefe-4f0be327d714"
      },
      "execution_count": 73,
      "outputs": [
        {
          "output_type": "display_data",
          "data": {
            "text/plain": [
              "<Figure size 864x576 with 1 Axes>"
            ],
            "image/png": "[encoded data removed]"
          },
          "metadata": {
            "needs_background": "light"
          }
        },
        {
          "output_type": "display_data",
          "data": {
            "text/plain": [
              "<Figure size 864x576 with 1 Axes>"
            ],
            "image/png": "[encoded data removed]"
          },
          "metadata": {
            "needs_background": "light"
          }
        },
        {
          "output_type": "display_data",
          "data": {
            "text/plain": [
              "<Figure size 864x576 with 1 Axes>"
            ],
            "image/png": "[encoded data removed]"
          },
          "metadata": {
            "needs_background": "light"
          }
        },
        {
          "output_type": "display_data",
          "data": {
            "text/plain": [
              "<Figure size 864x576 with 1 Axes>"
            ],
            "image/png": "[encoded data removed]"
          },
          "metadata": {
            "needs_background": "light"
          }
        },
        {
          "output_type": "display_data",
          "data": {
            "text/plain": [
              "<Figure size 864x576 with 1 Axes>"
            ],
            "image/png": "[encoded data removed]"
          },
          "metadata": {
            "needs_background": "light"
          }
        },
        {
          "output_type": "display_data",
          "data": {
            "text/plain": [
              "<Figure size 864x576 with 1 Axes>"
            ],
            "image/png": "[encoded data removed]"
          },
          "metadata": {
            "needs_background": "light"
          }
        },
        {
          "output_type": "display_data",
          "data": {
            "text/plain": [
              "<Figure size 864x576 with 1 Axes>"
            ],
            "image/png": "[encoded data removed]"
          },
          "metadata": {
            "needs_background": "light"
          }
        },
        {
          "output_type": "display_data",
          "data": {
            "text/plain": [
              "<Figure size 864x576 with 1 Axes>"
            ],
            "image/png": "[encoded data removed]"
          },
          "metadata": {
            "needs_background": "light"
          }
        },
        {
          "output_type": "display_data",
          "data": {
            "text/plain": [
              "<Figure size 864x576 with 1 Axes>"
            ],
            "image/png": "[encoded data removed]"
          },
          "metadata": {
            "needs_background": "light"
          }
        },
        {
          "output_type": "display_data",
          "data": {
            "text/plain": [
              "<Figure size 864x576 with 1 Axes>"
            ],
            "image/png": "[encoded data removed]"
          },
          "metadata": {
            "needs_background": "light"
          }
        },
        {
          "output_type": "display_data",
          "data": {
            "text/plain": [
              "<Figure size 864x576 with 1 Axes>"
            ],
            "image/png": "[encoded data removed]"
          },
          "metadata": {
            "needs_background": "light"
          }
        },
        {
          "output_type": "display_data",
          "data": {
            "text/plain": [
              "<Figure size 864x576 with 1 Axes>"
            ],
            "image/png": "[encoded data removed]"
          },
          "metadata": {
            "needs_background": "light"
          }
        },
        {
          "output_type": "display_data",
          "data": {
            "text/plain": [
              "<Figure size 864x576 with 1 Axes>"
            ],
            "image/png": "[encoded data removed]"
          },
          "metadata": {
            "needs_background": "light"
          }
        },
        {
          "output_type": "display_data",
          "data": {
            "text/plain": [
              "<Figure size 864x576 with 1 Axes>"
            ],
            "image/png": "[encoded data removed]"
          },
          "metadata": {
            "needs_background": "light"
          }
        },
        {
          "output_type": "display_data",
          "data": {
            "text/plain": [
              "<Figure size 864x576 with 1 Axes>"
            ],
            "image/png": "[encoded data removed]"
          },
          "metadata": {
            "needs_background": "light"
          }
        },
        {
          "output_type": "display_data",
          "data": {
            "text/plain": [
              "<Figure size 864x576 with 1 Axes>"
            ],
            "image/png": "[encoded data removed]"
          },
          "metadata": {
            "needs_background": "light"
          }
        },
        {
          "output_type": "display_data",
          "data": {
            "text/plain": [
              "<Figure size 864x576 with 1 Axes>"
            ],
            "image/png": "[encoded data removed]"
          },
          "metadata": {
            "needs_background": "light"
          }
        },
        {
          "output_type": "display_data",
          "data": {
            "text/plain": [
              "<Figure size 864x576 with 1 Axes>"
            ],
            "image/png": "[encoded data removed]"
          },
          "metadata": {
            "needs_background": "light"
          }
        },
        {
          "output_type": "display_data",
          "data": {
            "text/plain": [
              "<Figure size 864x576 with 1 Axes>"
            ],
            "image/png": "[encoded data removed]"
          },
          "metadata": {
            "needs_background": "light"
          }
        },
        {
          "output_type": "display_data",
          "data": {
            "text/plain": [
              "<Figure size 864x576 with 1 Axes>"
            ],
            "image/png": "[encoded data removed]"
          },
          "metadata": {
            "needs_background": "light"
          }
        }
      ]
    },
    {
      "cell_type": "code",
      "source": [
        ""
      ],
      "metadata": {
        "id": "gfKyb_6MQfji"
      },
      "execution_count": null,
      "outputs": []
    }
  ]
}